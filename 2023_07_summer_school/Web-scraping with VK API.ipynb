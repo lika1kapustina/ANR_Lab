{
 "cells": [
  {
   "cell_type": "markdown",
   "id": "4971d0f5",
   "metadata": {},
   "source": [
    "<h1><center> Social Network Data Web-Scraping: VK API </center></h1>\n",
    "<h1><center>ANR-Lab, 14th Summer School</center></h1>\n",
    "<h2><center>Lika Kapustina, Research Assistant</center></h2>\n",
    "<h3><center>lvkapustina@edu.hse.ru</center></h3>"
   ]
  },
  {
   "cell_type": "markdown",
   "id": "466405c4",
   "metadata": {},
   "source": [
    "Right now we are at a workshop run by ANR-Lab, and the other Summer School workshops are predominantly about network analysis. **But is any kind of data analysis possible without...the data itself?**\n",
    "\n",
    "My own professional interests are related primarily to data collection and preprocessing; **having web-scraping and data preparation skills allows you to formulate and test a much wider range of scientific and business hypotheses** without suffering from the hard questions \"where do I even get the data?\" and without spending personal money or company budget on access to companies API.\n",
    "\n",
    "Today we're going to talk about **how you can use Python skills to retrieve data from the Russian social network Vkontakte** via its API."
   ]
  },
  {
   "cell_type": "markdown",
   "id": "4870b127",
   "metadata": {},
   "source": [
    "## \"VKontakte\" and its API"
   ]
  },
  {
   "cell_type": "markdown",
   "id": "fb463e82",
   "metadata": {},
   "source": [
    "What is VKontakte? VKontakte is one of the most popular social networks in the former Soviet Union. It was created in 2006 under the leadership of Pavel Durov (also known as the creator of the messenger Telegram); as of May 2023, the average monthly audience of VKontakte was 81.5 million users.\n",
    "\n",
    "VKontakte has a handy functionality - you can communicate with friends, add people to your friends list, subscribe to communities (and much more). For purposes of the social network analysis you can find and use information on:\n",
    "\n",
    "* News;\n",
    "* Friends;\n",
    "* Your(!) messages;\n",
    "* Communities, its posts and subscribers, and so on..\n",
    "\n",
    "If because of some reasons you have never had experience with VK, here is an example of VK personal page and some interface.\n",
    "![screen_1.png](screen_1.png)\n",
    "\n",
    "In addition to this large audience size and the data that resides in the social networking space, VKontakte has a fairly simple and easy-to-use API, even for novice researchers, through which you can quickly get open data from the social network. \n",
    "\n",
    "What is an API?\n",
    "* **API** (if we try to formulate it short and quickly) - it is a set of methods, provided by the source site itself (social media, for example), through which we can retrieve data from the service with specific requests. For example: Twitter has its own API, HH.ru has an API, and so russian social media \"Vkontakte\" has its own API which is called \"VK API\".\n",
    "\n",
    "* **What data can you retrieve?** Your page data, community posts, data about your own correspondence, information about the subscribers of a particular community, etc..\n",
    "\n",
    "* **What kind of data can't be accessed?** Data from closed accounts (which are not your friends), data from closed communities, private information from profiles and communities.\n",
    "\n",
    "VK API is not only used to collect data, but also to run applications: for example, you can write a python script that will \"Like\" all your friends' posts; or write a python script that will ban members of the community you have admin rights for. But today we won't talk about such options, we'll just talk about data collection.\n",
    "\n",
    "So, we are gonna do a few steps:\n",
    "\n",
    "* **Step 1**: Get a token for VK API;\n",
    "\n",
    "* **Step 2**: Research our possibilities with VK API documentation;\n",
    "\n",
    "* **Step 3**: Get data on communities and persons;"
   ]
  },
  {
   "cell_type": "markdown",
   "id": "a420a591",
   "metadata": {},
   "source": [
    "## Step 1: Get a token for VK API"
   ]
  },
  {
   "cell_type": "markdown",
   "id": "9fa24601",
   "metadata": {},
   "source": [
    "Every big step has its own small steps:\n",
    "\n",
    "1. **Open https://vk.com/apps?act=manage page:**\n",
    "\n",
    "![screen_2.png](screen_2.png)\n",
    "\n",
    "2. **Create *Standalone* app:**\n",
    "\n",
    "![screen_3.png](screen_3.png)\n",
    "\n",
    "3. **Click on \"Manage\" and look to the page link:**\n",
    ">For example, I got `https://vk.com/editapp?id=666` link, so `666` is my future client_id\n",
    "\n",
    "4. **Click on Settings and click and change `App Status`:**\n",
    "![screen_3.5.png](screen_3.5.png)\n",
    "\n",
    "5. **Create your own link:**\n",
    "> `https://oauth.vk.com/authorize?client_id=1&display=page&scope=friends&response_type=token&v=5.92`\n",
    "\n",
    "Let's look on this one. You need to change some arguments:\n",
    "\n",
    "* `client_id` = should be your client_id that you got in the previous step;\n",
    "* `v` = should be the last version of VK API (for july 2023, you can use `5.131` or `5.92`);\n",
    "* `scope` = should be the types of data that you want to get access with your token (for example `friends,groups`), **but** I always use `scope=266242` and this works (allows us to get data on friends, groups and your messages).\n",
    "\n",
    "So, if I want to use 5.131 version of VK API and get data on friends, groups and messages, I need to use link:\n",
    "\n",
    "> `https://oauth.vk.com/authorize?client_id=1&display=page&scope=266242&response_type=token&v=5.131`\n",
    "\n",
    "6. **Open this link and copy access_token that starts from `vk1` substring:** \n",
    "\n",
    "![screen_3.5.5](screen_3.5.5.png)\n",
    "> `https://oauth.vk.com/blank.html#access_token=vk1.a.f1111ckm-ueqh9psP5TaJOwH87_tfwPULIYi1ADCopA9rwrzO20VFkEC6MlP25czXaatmy9p2I4T6pOhf-K8HVT4FX7Ii_Jcc4l9ve4-gBivUt5odnDTiaMmyUWM-gzF9sX1mXX83a1-sl75_mkNK0drewOjoMRRDfoToWiqOJuIT53rf-uh2zid6cn0f1FosKDMMM1fK9H1KHiSJPDK1XRIw&expires_in=86400&user_id=666`\n",
    "\n",
    "* `access_token=` - is your access token (including both `expires_in` and `user_id`);\n",
    "* `expires_in=` - is the number of seconds after which this particular `access_token` expires;\n",
    "* `user_id=666` - is your user id;"
   ]
  },
  {
   "cell_type": "markdown",
   "id": "db637e5f",
   "metadata": {},
   "source": [
    "<font color='red'><b>Important! Don't give your link anybody. A person with bad intentions and technical skills will be able to do different things on behalf of your account</b></font>"
   ]
  },
  {
   "cell_type": "code",
   "execution_count": 1,
   "id": "ef1ed82f",
   "metadata": {},
   "outputs": [],
   "source": [
    "# so, let's save your data:\n",
    "\n",
    "# 1. token\n",
    "\n",
    "with open('token.txt', 'w') as file:\n",
    "    file.write('YOUR TOKEN HERE')\n",
    "    \n",
    "# 2. id of your profile\n",
    "\n",
    "with open('id.txt', 'w') as file:\n",
    "    file.write('YOUR VK ID HERE')"
   ]
  },
  {
   "cell_type": "markdown",
   "id": "9c244da5",
   "metadata": {},
   "source": [
    "## Step 2: Let's research our possibilities with VK API documentation;"
   ]
  },
  {
   "cell_type": "markdown",
   "id": "dcff970c",
   "metadata": {},
   "source": [
    "VK API offers developers and researchers not only a user-friendly API, but also detailed documentation - an entire encyclopaedia listing all the features and possible parameters!\n",
    "\n",
    "For example, in our next step we will get data on persons by their ids. How to understand which method and how we need to use?\n",
    "\n",
    "1. **Open \"Documentation\" page by this [link](https://dev.vk.com/method)**\n",
    "\n",
    "![screen_4.png](screen_4.png)\n",
    "\n",
    "2. **Choose needed subpage in the left menu and click on it. In our case, its [Users](https://dev.vk.com/method/users):**\n",
    "\n",
    "![screen_5.png](screen_5.png)\n",
    "\n",
    "3. **Choose needed method and click on it. For our purposes, it will be [Users.get](https://dev.vk.com/method/users.get):**\n",
    "\n",
    "![screen_6.png](screen_6.png)"
   ]
  },
  {
   "cell_type": "markdown",
   "id": "a368e7e8",
   "metadata": {},
   "source": [
    "What's next? We can explore our parameters and use it in our next step for web-scraping. "
   ]
  },
  {
   "cell_type": "markdown",
   "id": "a1cee697",
   "metadata": {},
   "source": [
    "<h3><b>Task for your practice: imagine, that you need to find documentation on method that will be search podcasts in VKontakte. Find it in documentation and print its name lower</b></h3>\n",
    "\n",
    "<h3><font color='blue'><i>Your answer:</i> __________________  <font color='blue'></h3>"
   ]
  },
  {
   "cell_type": "markdown",
   "id": "668f0949",
   "metadata": {},
   "source": [
    "# Step 3: Get data on persons"
   ]
  },
  {
   "cell_type": "markdown",
   "id": "a7654af3",
   "metadata": {},
   "source": [
    "So, for today we will learn how to work with VKontakte personal profiles, preprocess this data and how to handle with most common problems and errors. Step-by-step, you will know how:\n",
    "\n",
    "1. Get data on one person;\n",
    "2. Get data on a few persons at once and preprocess it to `pandas.DataFrame`;\n",
    "3. Handle most common problems with VK API methods (overall)."
   ]
  },
  {
   "cell_type": "code",
   "execution_count": 2,
   "id": "45d39a55",
   "metadata": {},
   "outputs": [],
   "source": [
    "# Before the start, we need to import some libraries for future data scraping and preparation\n",
    "# use !pip install packagename if you see the ModuleNotFoundError\n",
    "import requests\n",
    "import numpy as np\n",
    "from datetime import datetime\n",
    "from time import sleep\n",
    "import pandas as pd\n",
    "import tqdm\n",
    "import re\n",
    "import math\n",
    "import warnings\n",
    "warnings.filterwarnings(\"ignore\")"
   ]
  },
  {
   "cell_type": "code",
   "execution_count": 3,
   "id": "397ade2e",
   "metadata": {},
   "outputs": [],
   "source": [
    "# token download, id and version refinement\n",
    "with open('id.txt') as file:\n",
    "    myid = file.read()\n",
    "\n",
    "# version of API \n",
    "version = '5.131'\n",
    "\n",
    "# load the token from a file on the computer\n",
    "with open('token.txt') as file:\n",
    "    token = file.read()"
   ]
  },
  {
   "cell_type": "markdown",
   "id": "f49a41eb",
   "metadata": {},
   "source": [
    "## Step 3.1: Get data on one user:\n",
    "\n",
    "What we are gonna do now? Every user in VKontakte has its own id. Let's try to write code that will collect information on user by his/her id.\n",
    "\n",
    "For this purpose, we need to use one of VK API method - `users.get`. We can find documentation on it by [link](https://dev.vk.com/method/users.get). Let's again look on it!\n",
    "\n",
    "![screen_7.png](screen_7.png)"
   ]
  },
  {
   "cell_type": "markdown",
   "id": "0e782ec4",
   "metadata": {},
   "source": [
    "**What is the best algorithm for work with VK API? You should:**\n",
    "\n",
    "1. Find needed method in VK API documentation;\n",
    "2. Check possible parameters;\n",
    "3. Decide which parameters you want to use;\n",
    "4. Gather all of your parameters and your own data (token) in one request;\n",
    "5. Send it and prepare the data for future analysis.\n",
    "\n",
    "**So, in case with users** - what type of data we want to collect? Let's choose these parameters:\n",
    "* `sex` - users sex;\n",
    "* `about` - small description that user write by him/herself;\n",
    "* `screen_name` - screen_name;\n",
    "* `bdate` - birthday date;\n",
    "* `city` - city of user;\n",
    "* `country` - country of user;\n",
    "* `education` - some basic information on education of user;\n",
    "* `universities` - some basic information on university of user;\n",
    "* `friend_status` - whether (`1`) or not (`0`) the user is our friend.\n",
    "\n",
    "Meaning of this values you can find by this [link](https://dev.vk.com/reference/objects/user)\n",
    "\n",
    "**What all of our responses will contain?**\n",
    "\n",
    "For example, if you want to get data on user with `id = '53083705'` and parameters which was specified before, link for getting data on user by his/her will contain this parts:\n",
    "\n",
    "```Python\n",
    "parameters = 'fields=sex,about,screen_name,bdate,city,country,education,universities,friend_status'\n",
    "method = 'users.get'\n",
    "version = '5.131'\n",
    "access_token = (access token that you created before)\n",
    "user_ids = '53083705'\n",
    "```\n",
    "\n",
    "And will look like this:\n",
    "\n",
    "```Python\n",
    "f'https://api.vk.com/method/{method}?{parameters}&v={version}&access_token={token}&user_ids={user_ids}'\n",
    "```"
   ]
  },
  {
   "cell_type": "markdown",
   "id": "bf6ff298",
   "metadata": {},
   "source": [
    "**How to get user id?** Here you have two possibilities: \n",
    "\n",
    "1. **Easy way:** use services such as [\"Узнать ID страницы или группы\"](https://regvk.com/id/) to get id of specific user;\n",
    "2. **Hard but nice way**: use method `utils.resolveScreenName`.\n",
    "\n",
    "<h3><b>Task with star*: write code that will get user's id by it's screen name (address of the personal page)</b></h3>\n",
    "\n",
    "For example, my personal link is `https://vk.com/lika.kapustina` which means that `lika.kapustina` is my screen name; but for user with personal link `https://vk.com/id136161093` screen name will be `id136161093`. Use `if-else` statements and method `utils.resolveSreenName` to write a code that will get user id by link on his/her personal page:"
   ]
  },
  {
   "cell_type": "code",
   "execution_count": 12,
   "id": "d178fdf1",
   "metadata": {},
   "outputs": [],
   "source": [
    "# YOUR CODE HERE"
   ]
  },
  {
   "cell_type": "markdown",
   "id": "efd24a27",
   "metadata": {},
   "source": [
    "**But let's go back to the code!**"
   ]
  },
  {
   "cell_type": "code",
   "execution_count": 4,
   "id": "54a986f9",
   "metadata": {},
   "outputs": [],
   "source": [
    "# specify all of the parameters\n",
    "parameters = 'fields=sex,about,screen_name,bdate,city,country,education,universities,friend_status'\n",
    "method = 'users.get'\n",
    "version = '5.131'\n",
    "user_ids = '53083705'\n",
    "url = f'https://api.vk.com/method/{method}?{parameters}&v={version}&access_token={token}&user_ids={user_ids}'\n",
    "response = requests.get(url)\n",
    "users_data = response.json()"
   ]
  },
  {
   "cell_type": "code",
   "execution_count": 5,
   "id": "bd5ac3e6",
   "metadata": {},
   "outputs": [
    {
     "data": {
      "text/plain": [
       "{'response': [{'id': 53083705,\n",
       "   'bdate': '14.9.1965',\n",
       "   'city': {'id': 1, 'title': 'Moscow'},\n",
       "   'country': {'id': 1, 'title': 'Russia'},\n",
       "   'about': '',\n",
       "   'university': 1,\n",
       "   'university_name': 'СПбГУ',\n",
       "   'faculty': 19,\n",
       "   'faculty_name': 'Юридический факультет',\n",
       "   'graduation': 1987,\n",
       "   'education_form': 'Full-time',\n",
       "   'education_status': 'Candidate of Sciences',\n",
       "   'universities': [{'chair': 270,\n",
       "     'chair_name': 'Гражданского права\\r\\n',\n",
       "     'city': 2,\n",
       "     'country': 1,\n",
       "     'education_form': 'Full-time',\n",
       "     'education_form_id': 1,\n",
       "     'education_status': 'Candidate of Sciences',\n",
       "     'education_status_id': 9,\n",
       "     'faculty': 19,\n",
       "     'faculty_name': 'Юридический факультет',\n",
       "     'graduation': 1987,\n",
       "     'id': 1,\n",
       "     'name': 'СПбГУ'}],\n",
       "   'sex': 2,\n",
       "   'screen_name': 'dm',\n",
       "   'friend_status': 0,\n",
       "   'first_name': 'Dmitry',\n",
       "   'last_name': 'Medvedev',\n",
       "   'can_access_closed': True,\n",
       "   'is_closed': False}]}"
      ]
     },
     "execution_count": 5,
     "metadata": {},
     "output_type": "execute_result"
    }
   ],
   "source": [
    "users_data # data on Dmitriy Medvedev, ex-Russian President"
   ]
  },
  {
   "cell_type": "code",
   "execution_count": 7,
   "id": "87739c98",
   "metadata": {},
   "outputs": [
    {
     "data": {
      "text/plain": [
       "dict"
      ]
     },
     "execution_count": 7,
     "metadata": {},
     "output_type": "execute_result"
    }
   ],
   "source": [
    "# what is users_data object?\n",
    "type(users_data) # dict, because we preprocessed it as json before"
   ]
  },
  {
   "cell_type": "code",
   "execution_count": 6,
   "id": "24cfcea0",
   "metadata": {},
   "outputs": [
    {
     "data": {
      "text/plain": [
       "[{'id': 53083705,\n",
       "  'bdate': '14.9.1965',\n",
       "  'city': {'id': 1, 'title': 'Moscow'},\n",
       "  'country': {'id': 1, 'title': 'Russia'},\n",
       "  'about': '',\n",
       "  'university': 1,\n",
       "  'university_name': 'СПбГУ',\n",
       "  'faculty': 19,\n",
       "  'faculty_name': 'Юридический факультет',\n",
       "  'graduation': 1987,\n",
       "  'education_form': 'Full-time',\n",
       "  'education_status': 'Candidate of Sciences',\n",
       "  'universities': [{'chair': 270,\n",
       "    'chair_name': 'Гражданского права\\r\\n',\n",
       "    'city': 2,\n",
       "    'country': 1,\n",
       "    'education_form': 'Full-time',\n",
       "    'education_form_id': 1,\n",
       "    'education_status': 'Candidate of Sciences',\n",
       "    'education_status_id': 9,\n",
       "    'faculty': 19,\n",
       "    'faculty_name': 'Юридический факультет',\n",
       "    'graduation': 1987,\n",
       "    'id': 1,\n",
       "    'name': 'СПбГУ'}],\n",
       "  'sex': 2,\n",
       "  'screen_name': 'dm',\n",
       "  'friend_status': 0,\n",
       "  'first_name': 'Dmitry',\n",
       "  'last_name': 'Medvedev',\n",
       "  'can_access_closed': True,\n",
       "  'is_closed': False}]"
      ]
     },
     "execution_count": 6,
     "metadata": {},
     "output_type": "execute_result"
    }
   ],
   "source": [
    "# how to work with data in it?\n",
    "users_data['response'] # main information"
   ]
  },
  {
   "cell_type": "code",
   "execution_count": 8,
   "id": "c8cb5871",
   "metadata": {},
   "outputs": [
    {
     "data": {
      "text/plain": [
       "'three'"
      ]
     },
     "execution_count": 8,
     "metadata": {},
     "output_type": "execute_result"
    }
   ],
   "source": [
    "# it's work like just regular python dictionaries\n",
    "my_dict = {1: 'one', 2: 'two', 3:'three'}\n",
    "my_dict[3]"
   ]
  },
  {
   "cell_type": "code",
   "execution_count": 17,
   "id": "2d1cbb75",
   "metadata": {},
   "outputs": [
    {
     "data": {
      "text/plain": [
       "{'id': 53083705,\n",
       " 'bdate': '14.9.1965',\n",
       " 'city': {'id': 1, 'title': 'Moscow'},\n",
       " 'country': {'id': 1, 'title': 'Russia'},\n",
       " 'about': '',\n",
       " 'university': 1,\n",
       " 'university_name': 'СПбГУ',\n",
       " 'faculty': 19,\n",
       " 'faculty_name': 'Юридический факультет',\n",
       " 'graduation': 1987,\n",
       " 'education_form': 'Full-time',\n",
       " 'education_status': 'Candidate of Sciences',\n",
       " 'universities': [{'chair': 270,\n",
       "   'chair_name': 'Гражданского права\\r\\n',\n",
       "   'city': 2,\n",
       "   'country': 1,\n",
       "   'education_form': 'Full-time',\n",
       "   'education_form_id': 1,\n",
       "   'education_status': 'Candidate of Sciences',\n",
       "   'education_status_id': 9,\n",
       "   'faculty': 19,\n",
       "   'faculty_name': 'Юридический факультет',\n",
       "   'graduation': 1987,\n",
       "   'id': 1,\n",
       "   'name': 'СПбГУ'}],\n",
       " 'sex': 2,\n",
       " 'screen_name': 'dm',\n",
       " 'friend_status': 0,\n",
       " 'first_name': 'Dmitry',\n",
       " 'last_name': 'Medvedev',\n",
       " 'can_access_closed': True,\n",
       " 'is_closed': False}"
      ]
     },
     "execution_count": 17,
     "metadata": {},
     "output_type": "execute_result"
    }
   ],
   "source": [
    "users_data['response'][0] # data on first user; in our case - on first and last."
   ]
  },
  {
   "cell_type": "code",
   "execution_count": 21,
   "id": "33c2108b",
   "metadata": {},
   "outputs": [
    {
     "name": "stdout",
     "output_type": "stream",
     "text": [
      "Dmitry\n",
      "Medvedev\n",
      "14.9.1965\n"
     ]
    }
   ],
   "source": [
    "# But how to get the value of the attribute?\n",
    "print(users_data['response'][0]['first_name']) # first name\n",
    "print(users_data['response'][0]['last_name']) # last_name\n",
    "print(users_data['response'][0]['bdate']) # date of birthday"
   ]
  },
  {
   "cell_type": "markdown",
   "id": "ffaed1cc",
   "metadata": {},
   "source": [
    "<h3>Task for you: print name of country where Dmitry Medvedev lives and name of university which he graduated</h3>"
   ]
  },
  {
   "cell_type": "code",
   "execution_count": null,
   "id": "ac1bef39",
   "metadata": {},
   "outputs": [],
   "source": [
    "# YOUR CODE HERE - NAME OF COUNTRY OF LIVING"
   ]
  },
  {
   "cell_type": "code",
   "execution_count": null,
   "id": "9f1edc33",
   "metadata": {},
   "outputs": [],
   "source": [
    "# YOUR CODE HERE - NAME OF UNIVERSITY"
   ]
  },
  {
   "cell_type": "markdown",
   "id": "5675f37c",
   "metadata": {},
   "source": [
    "## 3.2 Getting data on a few persons by one request:\n",
    "\n",
    "Let's remember on seminar of which Laboratory we are right now.. Right, if in future we want to work with data for future network analysis, we need to get data on at least few people. How to do it?\n",
    "\n",
    "For this, we need to specify the last part of our request, `user_ids`\n",
    "\n",
    "We need to write a few ids in one python string. For example, `user_ids=53083705,453382669,12086666'"
   ]
  },
  {
   "cell_type": "code",
   "execution_count": 28,
   "id": "90ceb721",
   "metadata": {},
   "outputs": [],
   "source": [
    "parameters = 'fields=sex,about,screen_name,bdate,city,country,education,universities,friend_status'\n",
    "method = 'users.get'\n",
    "version = '5.131'\n",
    "user_ids = '53083705,453382669,12086666'\n",
    "url = f'https://api.vk.com/method/{method}?{parameters}&v={version}&access_token={token}&user_ids={user_ids}'\n",
    "response = requests.get(url)\n",
    "users_data = response.json()"
   ]
  },
  {
   "cell_type": "code",
   "execution_count": 29,
   "id": "22536c2d",
   "metadata": {
    "scrolled": true
   },
   "outputs": [
    {
     "data": {
      "text/plain": [
       "{'response': [{'id': 53083705,\n",
       "   'bdate': '14.9.1965',\n",
       "   'city': {'id': 1, 'title': 'Moscow'},\n",
       "   'country': {'id': 1, 'title': 'Russia'},\n",
       "   'about': '',\n",
       "   'university': 1,\n",
       "   'university_name': 'СПбГУ',\n",
       "   'faculty': 19,\n",
       "   'faculty_name': 'Юридический факультет',\n",
       "   'graduation': 1987,\n",
       "   'education_form': 'Full-time',\n",
       "   'education_status': 'Candidate of Sciences',\n",
       "   'universities': [{'chair': 270,\n",
       "     'chair_name': 'Гражданского права\\r\\n',\n",
       "     'city': 2,\n",
       "     'country': 1,\n",
       "     'education_form': 'Full-time',\n",
       "     'education_form_id': 1,\n",
       "     'education_status': 'Candidate of Sciences',\n",
       "     'education_status_id': 9,\n",
       "     'faculty': 19,\n",
       "     'faculty_name': 'Юридический факультет',\n",
       "     'graduation': 1987,\n",
       "     'id': 1,\n",
       "     'name': 'СПбГУ'}],\n",
       "   'sex': 2,\n",
       "   'screen_name': 'dm',\n",
       "   'friend_status': 0,\n",
       "   'first_name': 'Dmitry',\n",
       "   'last_name': 'Medvedev',\n",
       "   'can_access_closed': True,\n",
       "   'is_closed': False},\n",
       "  {'id': 453382669,\n",
       "   'bdate': '5.11.1981',\n",
       "   'city': {'id': 1, 'title': 'Moscow'},\n",
       "   'country': {'id': 1, 'title': 'Russia'},\n",
       "   'about': '',\n",
       "   'university': 236,\n",
       "   'university_name': 'МГИМО МИД России',\n",
       "   'faculty': 0,\n",
       "   'faculty_name': '',\n",
       "   'graduation': 2004,\n",
       "   'universities': [{'city': 1,\n",
       "     'country': 1,\n",
       "     'graduation': 2004,\n",
       "     'id': 236,\n",
       "     'name': 'МГИМО МИД России'}],\n",
       "   'sex': 1,\n",
       "   'screen_name': 'sobchak',\n",
       "   'friend_status': 0,\n",
       "   'first_name': 'Ksenia',\n",
       "   'last_name': 'Sobchak',\n",
       "   'can_access_closed': True,\n",
       "   'is_closed': False},\n",
       "  {'id': 12086666,\n",
       "   'bdate': '14.2.1953',\n",
       "   'city': {'id': 1, 'title': 'Moscow'},\n",
       "   'country': {'id': 1, 'title': 'Russia'},\n",
       "   'about': '',\n",
       "   'university': 49,\n",
       "   'university_name': 'Горный университет (бывш. СПГГУ)',\n",
       "   'faculty': 0,\n",
       "   'faculty_name': '',\n",
       "   'graduation': 1980,\n",
       "   'universities': [{'city': 2,\n",
       "     'country': 1,\n",
       "     'graduation': 1980,\n",
       "     'id': 49,\n",
       "     'name': 'Горный университет (бывш. СПГГУ)'},\n",
       "    {'city': 2,\n",
       "     'country': 1,\n",
       "     'faculty': 799508,\n",
       "     'faculty_name': '6 факультет — Экономики и менеджмента',\n",
       "     'graduation': 1992,\n",
       "     'id': 57,\n",
       "     'name': 'СПбГТИ (ТУ)'},\n",
       "    {'city': 2,\n",
       "     'country': 1,\n",
       "     'faculty': 19,\n",
       "     'faculty_name': 'Юридический факультет',\n",
       "     'graduation': 1998,\n",
       "     'id': 1,\n",
       "     'name': 'СПбГУ'},\n",
       "    {'city': 2,\n",
       "     'country': 1,\n",
       "     'faculty': 16,\n",
       "     'faculty_name': 'Институт философии (бывш. Философский факультет)',\n",
       "     'graduation': 2004,\n",
       "     'id': 1,\n",
       "     'name': 'СПбГУ'},\n",
       "    {'city': 1,\n",
       "     'country': 1,\n",
       "     'faculty': 898923,\n",
       "     'faculty_name': 'Институт государственной службы и управления',\n",
       "     'graduation': 1997,\n",
       "     'id': 92,\n",
       "     'name': 'РАНХиГС при Президенте РФ (бывш. АНХ при Правительстве РФ)'}],\n",
       "   'sex': 2,\n",
       "   'screen_name': 'mironov_sergey',\n",
       "   'friend_status': 0,\n",
       "   'first_name': 'Sergey',\n",
       "   'last_name': 'Mironov',\n",
       "   'can_access_closed': True,\n",
       "   'is_closed': False}]}"
      ]
     },
     "execution_count": 29,
     "metadata": {},
     "output_type": "execute_result"
    }
   ],
   "source": [
    "# But how to deal with this structure and create pandas.DataFrame based on this?\n",
    "users_data"
   ]
  },
  {
   "cell_type": "code",
   "execution_count": 32,
   "id": "556d087a",
   "metadata": {},
   "outputs": [
    {
     "name": "stdout",
     "output_type": "stream",
     "text": [
      "We have data on 3 persons in object \"users_data\"\n"
     ]
    }
   ],
   "source": [
    "# Short answer - we need to use loop for. For! example:\n",
    "number_of_object = len(users_data['response'])\n",
    "print(f'We have data on {number_of_object} persons in object \"users_data\"')"
   ]
  },
  {
   "cell_type": "code",
   "execution_count": 33,
   "id": "6a93ef8f",
   "metadata": {},
   "outputs": [
    {
     "name": "stdout",
     "output_type": "stream",
     "text": [
      "{'id': 53083705, 'bdate': '14.9.1965', 'city': {'id': 1, 'title': 'Moscow'}, 'country': {'id': 1, 'title': 'Russia'}, 'about': '', 'university': 1, 'university_name': 'СПбГУ', 'faculty': 19, 'faculty_name': 'Юридический факультет', 'graduation': 1987, 'education_form': 'Full-time', 'education_status': 'Candidate of Sciences', 'universities': [{'chair': 270, 'chair_name': 'Гражданского права\\r\\n', 'city': 2, 'country': 1, 'education_form': 'Full-time', 'education_form_id': 1, 'education_status': 'Candidate of Sciences', 'education_status_id': 9, 'faculty': 19, 'faculty_name': 'Юридический факультет', 'graduation': 1987, 'id': 1, 'name': 'СПбГУ'}], 'sex': 2, 'screen_name': 'dm', 'friend_status': 0, 'first_name': 'Dmitry', 'last_name': 'Medvedev', 'can_access_closed': True, 'is_closed': False}\n",
      "{'id': 453382669, 'bdate': '5.11.1981', 'city': {'id': 1, 'title': 'Moscow'}, 'country': {'id': 1, 'title': 'Russia'}, 'about': '', 'university': 236, 'university_name': 'МГИМО МИД России', 'faculty': 0, 'faculty_name': '', 'graduation': 2004, 'universities': [{'city': 1, 'country': 1, 'graduation': 2004, 'id': 236, 'name': 'МГИМО МИД России'}], 'sex': 1, 'screen_name': 'sobchak', 'friend_status': 0, 'first_name': 'Ksenia', 'last_name': 'Sobchak', 'can_access_closed': True, 'is_closed': False}\n",
      "{'id': 12086666, 'bdate': '14.2.1953', 'city': {'id': 1, 'title': 'Moscow'}, 'country': {'id': 1, 'title': 'Russia'}, 'about': '', 'university': 49, 'university_name': 'Горный университет (бывш. СПГГУ)', 'faculty': 0, 'faculty_name': '', 'graduation': 1980, 'universities': [{'city': 2, 'country': 1, 'graduation': 1980, 'id': 49, 'name': 'Горный университет (бывш. СПГГУ)'}, {'city': 2, 'country': 1, 'faculty': 799508, 'faculty_name': '6 факультет — Экономики и менеджмента', 'graduation': 1992, 'id': 57, 'name': 'СПбГТИ (ТУ)'}, {'city': 2, 'country': 1, 'faculty': 19, 'faculty_name': 'Юридический факультет', 'graduation': 1998, 'id': 1, 'name': 'СПбГУ'}, {'city': 2, 'country': 1, 'faculty': 16, 'faculty_name': 'Институт философии (бывш. Философский факультет)', 'graduation': 2004, 'id': 1, 'name': 'СПбГУ'}, {'city': 1, 'country': 1, 'faculty': 898923, 'faculty_name': 'Институт государственной службы и управления', 'graduation': 1997, 'id': 92, 'name': 'РАНХиГС при Президенте РФ (бывш. АНХ при Правительстве РФ)'}], 'sex': 2, 'screen_name': 'mironov_sergey', 'friend_status': 0, 'first_name': 'Sergey', 'last_name': 'Mironov', 'can_access_closed': True, 'is_closed': False}\n"
     ]
    }
   ],
   "source": [
    "# If we use loop for, we can print needed object from response using its index.\n",
    "for i in range(3):\n",
    "    print(users_data['response'][i])"
   ]
  },
  {
   "cell_type": "code",
   "execution_count": 34,
   "id": "b167e9e8",
   "metadata": {},
   "outputs": [
    {
     "name": "stdout",
     "output_type": "stream",
     "text": [
      "Dmitry\n",
      "Medvedev\n",
      "\n",
      "\n",
      "Ksenia\n",
      "Sobchak\n",
      "\n",
      "\n",
      "Sergey\n",
      "Mironov\n",
      "\n",
      "\n"
     ]
    }
   ],
   "source": [
    "# Let's get information on first and last names of each other\n",
    "for i in range(3):\n",
    "    print(users_data['response'][i]['first_name'])\n",
    "    print(users_data['response'][i]['last_name'])\n",
    "    print('\\n') # Nice!"
   ]
  },
  {
   "cell_type": "code",
   "execution_count": 43,
   "id": "1f02bed2",
   "metadata": {},
   "outputs": [
    {
     "data": {
      "text/html": [
       "<div>\n",
       "<style scoped>\n",
       "    .dataframe tbody tr th:only-of-type {\n",
       "        vertical-align: middle;\n",
       "    }\n",
       "\n",
       "    .dataframe tbody tr th {\n",
       "        vertical-align: top;\n",
       "    }\n",
       "\n",
       "    .dataframe thead th {\n",
       "        text-align: right;\n",
       "    }\n",
       "</style>\n",
       "<table border=\"1\" class=\"dataframe\">\n",
       "  <thead>\n",
       "    <tr style=\"text-align: right;\">\n",
       "      <th></th>\n",
       "      <th>first_name</th>\n",
       "      <th>last_name</th>\n",
       "      <th>birthday</th>\n",
       "      <th>university</th>\n",
       "    </tr>\n",
       "  </thead>\n",
       "  <tbody>\n",
       "    <tr>\n",
       "      <th>0</th>\n",
       "      <td>Dmitry</td>\n",
       "      <td>Medvedev</td>\n",
       "      <td>14.9.1965</td>\n",
       "      <td>СПбГУ</td>\n",
       "    </tr>\n",
       "    <tr>\n",
       "      <th>0</th>\n",
       "      <td>Ksenia</td>\n",
       "      <td>Sobchak</td>\n",
       "      <td>5.11.1981</td>\n",
       "      <td>МГИМО МИД России</td>\n",
       "    </tr>\n",
       "    <tr>\n",
       "      <th>0</th>\n",
       "      <td>Sergey</td>\n",
       "      <td>Mironov</td>\n",
       "      <td>14.2.1953</td>\n",
       "      <td>Горный университет (бывш. СПГГУ)</td>\n",
       "    </tr>\n",
       "  </tbody>\n",
       "</table>\n",
       "</div>"
      ],
      "text/plain": [
       "  first_name last_name   birthday                        university\n",
       "0     Dmitry  Medvedev  14.9.1965                             СПбГУ\n",
       "0     Ksenia   Sobchak  5.11.1981                  МГИМО МИД России\n",
       "0     Sergey   Mironov  14.2.1953  Горный университет (бывш. СПГГУ)"
      ]
     },
     "execution_count": 43,
     "metadata": {},
     "output_type": "execute_result"
    }
   ],
   "source": [
    "# So, how we use for loop?\n",
    "df = pd.DataFrame() # empty pandas.DataFrame\n",
    "\n",
    "for i in range(3):\n",
    "    first_name = users_data['response'][i]['first_name']\n",
    "    second_name = users_data['response'][i]['last_name']\n",
    "    birthday = users_data['response'][i]['bdate']\n",
    "    education = users_data['response'][i]['university_name']\n",
    "    one_politician = pd.DataFrame([first_name, second_name, birthday, education]).transpose()\n",
    "    one_politician.columns = ['first_name', 'last_name', 'birthday', 'university']\n",
    "    df = pd.concat([df, one_politician])\n",
    "    \n",
    "df # here are"
   ]
  },
  {
   "cell_type": "code",
   "execution_count": 42,
   "id": "a97db78d",
   "metadata": {},
   "outputs": [
    {
     "data": {
      "text/html": [
       "<div>\n",
       "<style scoped>\n",
       "    .dataframe tbody tr th:only-of-type {\n",
       "        vertical-align: middle;\n",
       "    }\n",
       "\n",
       "    .dataframe tbody tr th {\n",
       "        vertical-align: top;\n",
       "    }\n",
       "\n",
       "    .dataframe thead th {\n",
       "        text-align: right;\n",
       "    }\n",
       "</style>\n",
       "<table border=\"1\" class=\"dataframe\">\n",
       "  <thead>\n",
       "    <tr style=\"text-align: right;\">\n",
       "      <th></th>\n",
       "      <th>first_name</th>\n",
       "      <th>last_name</th>\n",
       "      <th>birthday</th>\n",
       "      <th>university</th>\n",
       "      <th>faculty</th>\n",
       "    </tr>\n",
       "  </thead>\n",
       "  <tbody>\n",
       "    <tr>\n",
       "      <th>0</th>\n",
       "      <td>Dmitry</td>\n",
       "      <td>Medvedev</td>\n",
       "      <td>14.9.1965</td>\n",
       "      <td>СПбГУ</td>\n",
       "      <td>Юридический факультет</td>\n",
       "    </tr>\n",
       "    <tr>\n",
       "      <th>0</th>\n",
       "      <td>Ksenia</td>\n",
       "      <td>Sobchak</td>\n",
       "      <td>5.11.1981</td>\n",
       "      <td>МГИМО МИД России</td>\n",
       "      <td>NaN</td>\n",
       "    </tr>\n",
       "    <tr>\n",
       "      <th>0</th>\n",
       "      <td>Sergey</td>\n",
       "      <td>Mironov</td>\n",
       "      <td>14.2.1953</td>\n",
       "      <td>Горный университет (бывш. СПГГУ)</td>\n",
       "      <td>NaN</td>\n",
       "    </tr>\n",
       "  </tbody>\n",
       "</table>\n",
       "</div>"
      ],
      "text/plain": [
       "  first_name last_name   birthday                        university   \n",
       "0     Dmitry  Medvedev  14.9.1965                             СПбГУ  \\\n",
       "0     Ksenia   Sobchak  5.11.1981                  МГИМО МИД России   \n",
       "0     Sergey   Mironov  14.2.1953  Горный университет (бывш. СПГГУ)   \n",
       "\n",
       "                 faculty  \n",
       "0  Юридический факультет  \n",
       "0                    NaN  \n",
       "0                    NaN  "
      ]
     },
     "execution_count": 42,
     "metadata": {},
     "output_type": "execute_result"
    }
   ],
   "source": [
    "# And let's try to get other information on russian politicians\n",
    "df = pd.DataFrame() # empty pandas.DataFrame\n",
    "\n",
    "for i in range(3):\n",
    "    first_name = users_data['response'][i]['first_name']\n",
    "    second_name = users_data['response'][i]['last_name']\n",
    "    birthday = users_data['response'][i]['bdate']\n",
    "    education_university = users_data['response'][i]['university_name']\n",
    "    \n",
    "    # Try to get faculty name\n",
    "    try:\n",
    "        education_faculty = users_data['response'][i]['universities'][0]['faculty_name']\n",
    "        \n",
    "    # If face error, assign value numpy.nan to value education_faculty\n",
    "    except:\n",
    "        education_faculty = np.nan\n",
    "    \n",
    "    one_politician = pd.DataFrame([first_name, second_name, birthday, education_university, education_faculty]).transpose()\n",
    "    one_politician.columns = ['first_name', 'last_name', 'birthday', 'university', 'faculty']\n",
    "    df = pd.concat([df, one_politician])\n",
    "    \n",
    "df # here are"
   ]
  },
  {
   "cell_type": "code",
   "execution_count": 44,
   "id": "3816ba19",
   "metadata": {},
   "outputs": [
    {
     "ename": "KeyError",
     "evalue": "'faculty_name'",
     "output_type": "error",
     "traceback": [
      "\u001b[0;31m---------------------------------------------------------------------------\u001b[0m",
      "\u001b[0;31mKeyError\u001b[0m                                  Traceback (most recent call last)",
      "\u001b[0;32m/var/folders/r9/c7sl9tcn7_n24r9hzycxz4k00000gn/T/ipykernel_51710/3419912846.py\u001b[0m in \u001b[0;36m<module>\u001b[0;34m\u001b[0m\n\u001b[1;32m      8\u001b[0m     \u001b[0meducation_university\u001b[0m \u001b[0;34m=\u001b[0m \u001b[0musers_data\u001b[0m\u001b[0;34m[\u001b[0m\u001b[0;34m'response'\u001b[0m\u001b[0;34m]\u001b[0m\u001b[0;34m[\u001b[0m\u001b[0mi\u001b[0m\u001b[0;34m]\u001b[0m\u001b[0;34m[\u001b[0m\u001b[0;34m'university_name'\u001b[0m\u001b[0;34m]\u001b[0m\u001b[0;34m\u001b[0m\u001b[0;34m\u001b[0m\u001b[0m\n\u001b[1;32m      9\u001b[0m \u001b[0;34m\u001b[0m\u001b[0m\n\u001b[0;32m---> 10\u001b[0;31m     \u001b[0meducation_faculty\u001b[0m \u001b[0;34m=\u001b[0m \u001b[0musers_data\u001b[0m\u001b[0;34m[\u001b[0m\u001b[0;34m'response'\u001b[0m\u001b[0;34m]\u001b[0m\u001b[0;34m[\u001b[0m\u001b[0mi\u001b[0m\u001b[0;34m]\u001b[0m\u001b[0;34m[\u001b[0m\u001b[0;34m'universities'\u001b[0m\u001b[0;34m]\u001b[0m\u001b[0;34m[\u001b[0m\u001b[0;36m0\u001b[0m\u001b[0;34m]\u001b[0m\u001b[0;34m[\u001b[0m\u001b[0;34m'faculty_name'\u001b[0m\u001b[0;34m]\u001b[0m\u001b[0;34m\u001b[0m\u001b[0;34m\u001b[0m\u001b[0m\n\u001b[0m\u001b[1;32m     11\u001b[0m \u001b[0;34m\u001b[0m\u001b[0m\n\u001b[1;32m     12\u001b[0m     \u001b[0mone_politician\u001b[0m \u001b[0;34m=\u001b[0m \u001b[0mpd\u001b[0m\u001b[0;34m.\u001b[0m\u001b[0mDataFrame\u001b[0m\u001b[0;34m(\u001b[0m\u001b[0;34m[\u001b[0m\u001b[0mfirst_name\u001b[0m\u001b[0;34m,\u001b[0m \u001b[0msecond_name\u001b[0m\u001b[0;34m,\u001b[0m \u001b[0mbirthday\u001b[0m\u001b[0;34m,\u001b[0m \u001b[0meducation_university\u001b[0m\u001b[0;34m,\u001b[0m \u001b[0meducation_faculty\u001b[0m\u001b[0;34m]\u001b[0m\u001b[0;34m)\u001b[0m\u001b[0;34m.\u001b[0m\u001b[0mtranspose\u001b[0m\u001b[0;34m(\u001b[0m\u001b[0;34m)\u001b[0m\u001b[0;34m\u001b[0m\u001b[0;34m\u001b[0m\u001b[0m\n",
      "\u001b[0;31mKeyError\u001b[0m: 'faculty_name'"
     ]
    }
   ],
   "source": [
    "# If we won't use try-except statement, we will face problems...\n",
    "df = pd.DataFrame() # empty pandas.DataFrame\n",
    "\n",
    "for i in range(3):\n",
    "    first_name = users_data['response'][i]['first_name']\n",
    "    second_name = users_data['response'][i]['last_name']\n",
    "    birthday = users_data['response'][i]['bdate']\n",
    "    education_university = users_data['response'][i]['university_name']\n",
    "    \n",
    "    education_faculty = users_data['response'][i]['universities'][0]['faculty_name']\n",
    "    \n",
    "    one_politician = pd.DataFrame([first_name, second_name, birthday, education_university, education_faculty]).transpose()\n",
    "    one_politician.columns = ['first_name', 'last_name', 'birthday', 'university', 'faculty']\n",
    "    df = pd.concat([df, one_politician])\n",
    "    \n",
    "df # here are"
   ]
  },
  {
   "cell_type": "markdown",
   "id": "169f3238",
   "metadata": {},
   "source": [
    "<h3>Task for you: based on code before, get `pandas.DataFrame` with `screen name` and year of graduation from the first university (with index 0)</h3>"
   ]
  },
  {
   "cell_type": "code",
   "execution_count": null,
   "id": "8eb9acdc",
   "metadata": {},
   "outputs": [],
   "source": [
    "# YOUR CODE HERE"
   ]
  },
  {
   "cell_type": "markdown",
   "id": "7b2001dc",
   "metadata": {},
   "source": [
    "## 3.3 What is an important? Handling errors and problems:\n",
    "\n",
    "1. **Don't change your Wi-fi address during web-scraping process and update your token not less than one in a 24 hours**: either it will lead to `error_code 5`"
   ]
  },
  {
   "cell_type": "code",
   "execution_count": 11,
   "id": "b574d327",
   "metadata": {},
   "outputs": [
    {
     "data": {
      "text/plain": [
       "{'error': {'error_code': 5,\n",
       "  'error_msg': 'User authorization failed: access_token was given to another ip address',\n",
       "  'error_text': 'Failed to connect to\\xa0network. Please close the\\xa0page and\\xa0try again.',\n",
       "  'request_params': [{'key': 'fields',\n",
       "    'value': 'sex,about,screen_name,bdate,city,country,education,universities,friend_status'},\n",
       "   {'key': 'v', 'value': '5.131'},\n",
       "   {'key': 'expires_in', 'value': '86400'},\n",
       "   {'key': 'user_id', 'value': '441721976'},\n",
       "   {'key': 'user_ids', 'value': '53083705'},\n",
       "   {'key': 'method', 'value': 'users.get'},\n",
       "   {'key': 'oauth', 'value': '1'}],\n",
       "  'view': 'alert'}}"
      ]
     },
     "execution_count": 11,
     "metadata": {},
     "output_type": "execute_result"
    }
   ],
   "source": [
    "parameters = 'fields=sex,about,screen_name,bdate,city,country,education,universities,friend_status'\n",
    "method = 'users.get'\n",
    "version = '5.131'\n",
    "user_ids = '53083705'\n",
    "url = f'https://api.vk.com/method/{method}?{parameters}&v={version}&access_token={token}&user_ids={user_ids}'\n",
    "response = requests.get(url)\n",
    "users_data = response.json()\n",
    "users_data"
   ]
  },
  {
   "cell_type": "markdown",
   "id": "b74399aa",
   "metadata": {},
   "source": [
    "2. **Check correct name of parameters:** `users_ids` is not equal to `user_i`, which leads to specific error - you will get information on yourself.."
   ]
  },
  {
   "cell_type": "code",
   "execution_count": 23,
   "id": "6b8713a1",
   "metadata": {},
   "outputs": [
    {
     "data": {
      "text/plain": [
       "{'response': [{'id': 441721976,\n",
       "   'bdate': '24.9.1917',\n",
       "   'city': {'id': 1, 'title': 'Moscow'},\n",
       "   'country': {'id': 1, 'title': 'Russia'},\n",
       "   'about': '',\n",
       "   'university': 128,\n",
       "   'university_name': 'НИУ ВШЭ (ГУ-ВШЭ)',\n",
       "   'faculty': 0,\n",
       "   'faculty_name': '',\n",
       "   'graduation': 0,\n",
       "   'universities': [{'city': 1,\n",
       "     'country': 1,\n",
       "     'id': 128,\n",
       "     'name': 'НИУ ВШЭ (ГУ-ВШЭ)'}],\n",
       "   'sex': 2,\n",
       "   'screen_name': 'lika.kapustina',\n",
       "   'friend_status': 0,\n",
       "   'first_name': 'Lika',\n",
       "   'last_name': 'Kapustina',\n",
       "   'can_access_closed': True,\n",
       "   'is_closed': True}]}"
      ]
     },
     "execution_count": 23,
     "metadata": {},
     "output_type": "execute_result"
    }
   ],
   "source": [
    "parameters = 'fields=sex,about,screen_name,bdate,city,country,education,universities,friend_status'\n",
    "method = 'users.get'\n",
    "version = '5.131'\n",
    "user_ids = '53083705'\n",
    "url = f'https://api.vk.com/method/{method}?{parameters}&v={version}&access_token={token}&user_i={user_ids}'\n",
    "response = requests.get(url)\n",
    "users_data = response.json()\n",
    "users_data"
   ]
  },
  {
   "cell_type": "markdown",
   "id": "7bbb03d3",
   "metadata": {},
   "source": [
    "3. **Check whether you have access to data or not:** using VK API and possible all of the legal methods of web-scraping, you can't access and scrape private data: data on closed pages or communities.\n",
    "\n",
    "So, try to get my information - if you aren't my friend, VK API won't let you do this :)"
   ]
  },
  {
   "cell_type": "code",
   "execution_count": null,
   "id": "46f07149",
   "metadata": {},
   "outputs": [],
   "source": [
    "parameters = 'fields=sex,about,screen_name,bdate,city,country,education,universities,friend_status'\n",
    "method = 'users.get'\n",
    "version = '5.131'\n",
    "user_ids = '441721976'\n",
    "url = f'https://api.vk.com/method/{method}?{parameters}&v={version}&access_token={token}&user_id={user_ids}'\n",
    "response = requests.get(url)\n",
    "users_data = response.json()\n",
    "users_data # You can check it by yourself :)"
   ]
  },
  {
   "cell_type": "code",
   "execution_count": null,
   "id": "a5cb03ea",
   "metadata": {},
   "outputs": [],
   "source": [
    "# CHECK ME..."
   ]
  },
  {
   "cell_type": "markdown",
   "id": "661f12c3",
   "metadata": {},
   "source": [
    "## 3.4 Some optional homework:"
   ]
  },
  {
   "cell_type": "markdown",
   "id": "9e31521a",
   "metadata": {},
   "source": [
    "Well, when I finished part of work with `users` with VK API, I understood that probably workshop with other parts (work with `groups` and `posts`) of VK API methods would take way much more time and would have kept me with you for too long. \n",
    "\n",
    "**But I can offer you next** – I understand that programmming and data analysis is nothing without practice, so try to use method `wall.get` and create function `get_last_100_posts(group_id)`, that will get id of `group` and return `pandas.DataFrame` with last 100 posts of this group.\n",
    "\n",
    "**It should work like this:**"
   ]
  },
  {
   "cell_type": "code",
   "execution_count": 27,
   "id": "fe7e7d8b",
   "metadata": {},
   "outputs": [
    {
     "data": {
      "text/html": [
       "<div>\n",
       "<style scoped>\n",
       "    .dataframe tbody tr th:only-of-type {\n",
       "        vertical-align: middle;\n",
       "    }\n",
       "\n",
       "    .dataframe tbody tr th {\n",
       "        vertical-align: top;\n",
       "    }\n",
       "\n",
       "    .dataframe thead th {\n",
       "        text-align: right;\n",
       "    }\n",
       "</style>\n",
       "<table border=\"1\" class=\"dataframe\">\n",
       "  <thead>\n",
       "    <tr style=\"text-align: right;\">\n",
       "      <th></th>\n",
       "      <th>date</th>\n",
       "      <th>group_name</th>\n",
       "      <th>group_members</th>\n",
       "      <th>post_local_id</th>\n",
       "      <th>from_id</th>\n",
       "      <th>text</th>\n",
       "      <th>comments</th>\n",
       "      <th>likes</th>\n",
       "      <th>reposts</th>\n",
       "      <th>views</th>\n",
       "    </tr>\n",
       "  </thead>\n",
       "  <tbody>\n",
       "    <tr>\n",
       "      <th>0</th>\n",
       "      <td>2023-07-03 10:40:00</td>\n",
       "      <td>Прикладной сетевой анализ НИУ ВШЭ</td>\n",
       "      <td>294</td>\n",
       "      <td>617</td>\n",
       "      <td>-139461971</td>\n",
       "      <td>ANR-Lab провела коммерческое исследование для ...</td>\n",
       "      <td>0</td>\n",
       "      <td>4</td>\n",
       "      <td>1</td>\n",
       "      <td>65</td>\n",
       "    </tr>\n",
       "    <tr>\n",
       "      <th>1</th>\n",
       "      <td>2023-06-28 09:44:00</td>\n",
       "      <td>Прикладной сетевой анализ НИУ ВШЭ</td>\n",
       "      <td>294</td>\n",
       "      <td>615</td>\n",
       "      <td>-139461971</td>\n",
       "      <td>Итоги защиты ВКР выпускников MASNA-2023  16-17...</td>\n",
       "      <td>0</td>\n",
       "      <td>4</td>\n",
       "      <td>0</td>\n",
       "      <td>200</td>\n",
       "    </tr>\n",
       "    <tr>\n",
       "      <th>2</th>\n",
       "      <td>2023-06-27 10:59:00</td>\n",
       "      <td>Прикладной сетевой анализ НИУ ВШЭ</td>\n",
       "      <td>294</td>\n",
       "      <td>613</td>\n",
       "      <td>-139461971</td>\n",
       "      <td>«У нас получается создать коллектив, на которы...</td>\n",
       "      <td>0</td>\n",
       "      <td>10</td>\n",
       "      <td>0</td>\n",
       "      <td>134</td>\n",
       "    </tr>\n",
       "    <tr>\n",
       "      <th>3</th>\n",
       "      <td>2023-06-26 09:53:12</td>\n",
       "      <td>Прикладной сетевой анализ НИУ ВШЭ</td>\n",
       "      <td>294</td>\n",
       "      <td>611</td>\n",
       "      <td>-139461971</td>\n",
       "      <td>Интервью Ивана Климова каналу Nasledie.digital...</td>\n",
       "      <td>0</td>\n",
       "      <td>4</td>\n",
       "      <td>0</td>\n",
       "      <td>78</td>\n",
       "    </tr>\n",
       "    <tr>\n",
       "      <th>4</th>\n",
       "      <td>2023-06-24 18:13:36</td>\n",
       "      <td>Прикладной сетевой анализ НИУ ВШЭ</td>\n",
       "      <td>294</td>\n",
       "      <td>610</td>\n",
       "      <td>-139461971</td>\n",
       "      <td>26 июня в 15:00 состоится семинар Международно...</td>\n",
       "      <td>0</td>\n",
       "      <td>2</td>\n",
       "      <td>1</td>\n",
       "      <td>139</td>\n",
       "    </tr>\n",
       "    <tr>\n",
       "      <th>...</th>\n",
       "      <td>...</td>\n",
       "      <td>...</td>\n",
       "      <td>...</td>\n",
       "      <td>...</td>\n",
       "      <td>...</td>\n",
       "      <td>...</td>\n",
       "      <td>...</td>\n",
       "      <td>...</td>\n",
       "      <td>...</td>\n",
       "      <td>...</td>\n",
       "    </tr>\n",
       "    <tr>\n",
       "      <th>95</th>\n",
       "      <td>2021-08-05 19:16:00</td>\n",
       "      <td>Прикладной сетевой анализ НИУ ВШЭ</td>\n",
       "      <td>294</td>\n",
       "      <td>506</td>\n",
       "      <td>-139461971</td>\n",
       "      <td>Лучшие показатели успеха программы: выпускники...</td>\n",
       "      <td>0</td>\n",
       "      <td>14</td>\n",
       "      <td>0</td>\n",
       "      <td>403</td>\n",
       "    </tr>\n",
       "    <tr>\n",
       "      <th>96</th>\n",
       "      <td>2021-07-31 13:12:00</td>\n",
       "      <td>Прикладной сетевой анализ НИУ ВШЭ</td>\n",
       "      <td>294</td>\n",
       "      <td>504</td>\n",
       "      <td>-139461971</td>\n",
       "      <td>Управляйте отношениями (между данными): обзор ...</td>\n",
       "      <td>0</td>\n",
       "      <td>19</td>\n",
       "      <td>0</td>\n",
       "      <td>219</td>\n",
       "    </tr>\n",
       "    <tr>\n",
       "      <th>97</th>\n",
       "      <td>2021-07-26 18:41:54</td>\n",
       "      <td>Прикладной сетевой анализ НИУ ВШЭ</td>\n",
       "      <td>294</td>\n",
       "      <td>502</td>\n",
       "      <td>-139461971</td>\n",
       "      <td>Сердце и разум: анализ настроений в R   Как уз...</td>\n",
       "      <td>0</td>\n",
       "      <td>16</td>\n",
       "      <td>1</td>\n",
       "      <td>225</td>\n",
       "    </tr>\n",
       "    <tr>\n",
       "      <th>98</th>\n",
       "      <td>2021-07-16 19:43:01</td>\n",
       "      <td>Прикладной сетевой анализ НИУ ВШЭ</td>\n",
       "      <td>294</td>\n",
       "      <td>501</td>\n",
       "      <td>-139461971</td>\n",
       "      <td>Открывая возможности темпорального сетевого ан...</td>\n",
       "      <td>0</td>\n",
       "      <td>21</td>\n",
       "      <td>0</td>\n",
       "      <td>227</td>\n",
       "    </tr>\n",
       "    <tr>\n",
       "      <th>99</th>\n",
       "      <td>2021-07-09 13:02:00</td>\n",
       "      <td>Прикладной сетевой анализ НИУ ВШЭ</td>\n",
       "      <td>294</td>\n",
       "      <td>500</td>\n",
       "      <td>-139461971</td>\n",
       "      <td>Data mining для всех: от принятия решений до п...</td>\n",
       "      <td>0</td>\n",
       "      <td>15</td>\n",
       "      <td>0</td>\n",
       "      <td>189</td>\n",
       "    </tr>\n",
       "  </tbody>\n",
       "</table>\n",
       "<p>100 rows × 10 columns</p>\n",
       "</div>"
      ],
      "text/plain": [
       "                  date                         group_name  group_members   \n",
       "0  2023-07-03 10:40:00  Прикладной сетевой анализ НИУ ВШЭ            294  \\\n",
       "1  2023-06-28 09:44:00  Прикладной сетевой анализ НИУ ВШЭ            294   \n",
       "2  2023-06-27 10:59:00  Прикладной сетевой анализ НИУ ВШЭ            294   \n",
       "3  2023-06-26 09:53:12  Прикладной сетевой анализ НИУ ВШЭ            294   \n",
       "4  2023-06-24 18:13:36  Прикладной сетевой анализ НИУ ВШЭ            294   \n",
       "..                 ...                                ...            ...   \n",
       "95 2021-08-05 19:16:00  Прикладной сетевой анализ НИУ ВШЭ            294   \n",
       "96 2021-07-31 13:12:00  Прикладной сетевой анализ НИУ ВШЭ            294   \n",
       "97 2021-07-26 18:41:54  Прикладной сетевой анализ НИУ ВШЭ            294   \n",
       "98 2021-07-16 19:43:01  Прикладной сетевой анализ НИУ ВШЭ            294   \n",
       "99 2021-07-09 13:02:00  Прикладной сетевой анализ НИУ ВШЭ            294   \n",
       "\n",
       "    post_local_id    from_id   \n",
       "0             617 -139461971  \\\n",
       "1             615 -139461971   \n",
       "2             613 -139461971   \n",
       "3             611 -139461971   \n",
       "4             610 -139461971   \n",
       "..            ...        ...   \n",
       "95            506 -139461971   \n",
       "96            504 -139461971   \n",
       "97            502 -139461971   \n",
       "98            501 -139461971   \n",
       "99            500 -139461971   \n",
       "\n",
       "                                                 text  comments  likes   \n",
       "0   ANR-Lab провела коммерческое исследование для ...         0      4  \\\n",
       "1   Итоги защиты ВКР выпускников MASNA-2023  16-17...         0      4   \n",
       "2   «У нас получается создать коллектив, на которы...         0     10   \n",
       "3   Интервью Ивана Климова каналу Nasledie.digital...         0      4   \n",
       "4   26 июня в 15:00 состоится семинар Международно...         0      2   \n",
       "..                                                ...       ...    ...   \n",
       "95  Лучшие показатели успеха программы: выпускники...         0     14   \n",
       "96  Управляйте отношениями (между данными): обзор ...         0     19   \n",
       "97  Сердце и разум: анализ настроений в R   Как уз...         0     16   \n",
       "98  Открывая возможности темпорального сетевого ан...         0     21   \n",
       "99  Data mining для всех: от принятия решений до п...         0     15   \n",
       "\n",
       "    reposts  views  \n",
       "0         1     65  \n",
       "1         0    200  \n",
       "2         0    134  \n",
       "3         0     78  \n",
       "4         1    139  \n",
       "..      ...    ...  \n",
       "95        0    403  \n",
       "96        0    219  \n",
       "97        1    225  \n",
       "98        0    227  \n",
       "99        0    189  \n",
       "\n",
       "[100 rows x 10 columns]"
      ]
     },
     "execution_count": 27,
     "metadata": {},
     "output_type": "execute_result"
    }
   ],
   "source": [
    "get_100_last_posts_from_one_group('139461971')"
   ]
  },
  {
   "cell_type": "code",
   "execution_count": null,
   "id": "06f27932",
   "metadata": {},
   "outputs": [],
   "source": [
    "# YOUR CODE HERE"
   ]
  },
  {
   "cell_type": "markdown",
   "id": "00b135b4",
   "metadata": {},
   "source": [
    "Either way, whether you succeed in writing the function or stop at some part of the code, **send me your code in .ipynb format** at *lkapustina@hse.ru* and I will try to give you feedback :)\n",
    "\n",
    "Remember - methods and skills of web-scraping is very useful (mostly because very small percentage of researchers are familiar with them), and check on updates of **Applied Network Research Laboratory** and **Master of Applied Social Network Analysis program** :) for future interesting news, events and education calls"
   ]
  },
  {
   "cell_type": "markdown",
   "id": "d8ada019",
   "metadata": {},
   "source": [
    "<center><h2><font color='pink'>Thank you for an attention!</font></h2></center>"
   ]
  }
 ],
 "metadata": {
  "kernelspec": {
   "display_name": "Python 3 (ipykernel)",
   "language": "python",
   "name": "python3"
  },
  "language_info": {
   "codemirror_mode": {
    "name": "ipython",
    "version": 3
   },
   "file_extension": ".py",
   "mimetype": "text/x-python",
   "name": "python",
   "nbconvert_exporter": "python",
   "pygments_lexer": "ipython3",
   "version": "3.9.13"
  }
 },
 "nbformat": 4,
 "nbformat_minor": 5
}
