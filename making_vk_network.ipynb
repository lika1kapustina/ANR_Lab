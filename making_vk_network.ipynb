{
 "cells": [
  {
   "cell_type": "markdown",
   "id": "7ed6cc78",
   "metadata": {},
   "source": [
    "<h1><center>Создание сетей друзей ВКонтакте</center></h1>"
   ]
  },
  {
   "cell_type": "code",
   "execution_count": 10,
   "id": "be89e9f7",
   "metadata": {},
   "outputs": [],
   "source": [
    "with open('token.txt', 'w') as file:\n",
    "    file.write('...')"
   ]
  },
  {
   "cell_type": "code",
   "execution_count": 14,
   "id": "1f33e7cc",
   "metadata": {},
   "outputs": [],
   "source": [
    "# загрузка библиотек\n",
    "import requests\n",
    "import numpy as np\n",
    "from datetime import datetime\n",
    "from time import sleep\n",
    "import pandas as pd\n",
    "import tqdm\n",
    "import re\n",
    "import math\n",
    "import warnings\n",
    "warnings.filterwarnings(\"ignore\")\n",
    "\n",
    "# загрузка токена, id и уточнение версии\n",
    "with open('id.txt') as file:\n",
    "    myid = file.read()\n",
    "\n",
    "# версия используемого API\n",
    "version = '5.131'\n",
    "# подгружаем токен из файла на компьютере\n",
    "with open('token.txt') as file:\n",
    "    token = file.read()"
   ]
  },
  {
   "cell_type": "markdown",
   "id": "9c9b3c90",
   "metadata": {},
   "source": [
    "<h2><center>Сбор данных с помощью VK API</center></h2>"
   ]
  },
  {
   "cell_type": "code",
   "execution_count": 15,
   "id": "aa2567e4",
   "metadata": {},
   "outputs": [],
   "source": [
    "def get_id_of_user_from_link(user_link, method='util.resolveScreeenName'):\n",
    "    '''\n",
    "    Функция get_id_of_user_from_link(user_link) принимает на вход ссылку на страницу пользователя ВКонтакте\n",
    "    и возвращает его id.\n",
    "    \n",
    "    Args:\n",
    "        :user_link: string - ссылка на пользователя;\n",
    "    Returns:\n",
    "        :user_id: string - id пользователя в виде строки\n",
    "    Example:\n",
    "        >>>> one_user_id = get_id_of_user_from_link('https://vk.com/lika.kapustina')\n",
    "        >>>> one_user_id # 441721976\n",
    "    '''\n",
    "\n",
    "    screen_name = user_link.replace('https://vk.com/', '')\n",
    "\n",
    "    # может быть такое, что ссылка на пользователя содержит id (vk.com/id777)\n",
    "    if screen_name.startswith('id') == True and screen_name[2:].isdigit() == True:\n",
    "        user_id = screen_name.replace('id', '')\n",
    "\n",
    "    # если нет, нам нужно сделать запрос к ВК и получить id пользователя\n",
    "    else:\n",
    "        method_for_get_id = 'utils.resolveScreenName'\n",
    "        parameters='screen_name=' + screen_name\n",
    "        url = 'https://api.vk.com/method/' + method_for_get_id +'?'+ parameters + '&v=' + version + '&access_token=' + token\n",
    "        response = requests.get(url)\n",
    "        response = response.json()\n",
    "        user_id = response['response']['object_id']\n",
    "        \n",
    "    # возвращаю id\n",
    "    return user_id\n",
    "\n",
    "# пример\n",
    "# one_user_id = get_id_of_user_from_link('https://vk.com/lika.kapustina')\n",
    "# print(one_user_id)\n",
    "# one_user_id = get_id_of_user_from_link('https://vk.com/id121096')\n",
    "# print(one_user_id)\n",
    "\n",
    "def get_id_of_all_users_links(users_links, method='util.resolveScreeenName'):\n",
    "    '''\n",
    "    Функция get_ids_of_all_users_from_links(user_links) принимает на вход СПИСОК со ссылками на аккаунты пользователей,\n",
    "    обращается внутри себя к методу `get_id_of_user_from_link(user_link)`,\n",
    "    и возвращает СТРОКУ с id пользователей, записанных через строку.\n",
    "    \n",
    "    Args:\n",
    "        :users_links: list - список с ссылками на пользователей;\n",
    "    Returns:\n",
    "        :users_ids_string: string - id пользователей, записанные через запятую в виде строки.\n",
    "    Example:\n",
    "        >>>> list_with_ids = get_id_of_all_users_links(['https://vk.com/lika.kapustina','https://vk.com/sdilov','https://vk.com/sofiagreseva'])\n",
    "        >>>> list_with_ids\n",
    "        \n",
    "    '''\n",
    "    users_ids_list = [] # создаем пустой список\n",
    "    \n",
    "    # идем по всему списку из ссылок\n",
    "    for user_link in tqdm.tqdm(users_links):\n",
    "        user_id = get_id_of_user_from_link(f'{user_link}') # получаем id пользователя\n",
    "        users_ids_list.append(user_id)\n",
    "        sleep(0.15) # небольшая пауза    \n",
    "    \n",
    "    users_ids_string = ','.join([str(i) for i in users_ids_list])\n",
    "    \n",
    "    return users_ids_string # возвращаем строку с id пользователей\n",
    "\n",
    "# пример\n",
    "# list_with_ids = get_id_of_all_users_links(['https://vk.com/lika.kapustina',\n",
    "#                                           'https://vk.com/sdilov',\n",
    "#                                           'https://vk.com/sofiagreseva'])\n",
    "# list_with_ids\n",
    "\n",
    "def get_friends_of_user_only_ids(user_id, method='friends.get'):\n",
    "    '''Функция get_friends_of_user_only_ids принимает на вход id пользователя ВКонтакте и возвращает строку, где через\n",
    "    запятую перечислены id его друзей.\n",
    "    \n",
    "    Method: https://dev.vk.com/method/friends.get\n",
    "    \n",
    "    Args:\n",
    "        :user_id: id пользователя ВКонтакте\n",
    "    Returns:\n",
    "        :friends_string: string с id друзей пользователя\n",
    "    Example:\n",
    "        >>>> limarenko_friends = get_friends_of_user('533710525')\n",
    "        >>>> limarenko_friends # '626130,957188,1053362,2058801,3279648,4120747,5823842,8523846,11146055,11860274,25758390,169272036,171462727,182026369,196603818,322659228,462979979,520753933,538671248,550960397,550966564,551354669,551382456,551506228,578750417,606932606,616844912,633974128,660930698,665881497,670425420,689458339,703017057,703621379,708192084,708405503,710516910,710520153,710787650,711209497,711761122,711978083,711991565,712541914,712544833,712545388,713904031\n",
    "\n",
    "    '''\n",
    "    # осуществляем запрос\n",
    "    parameters = 'count=5000' # берем максимум - 5000 друзей\n",
    "    url = 'https://api.vk.com/method/' + method +'?' + parameters + '&v=' + version + '&access_token=' + token + '&user_id=' + user_id\n",
    "    response = requests.get(url)\n",
    "    one_data = response.text\n",
    "    \n",
    "    # обрабатываем данные\n",
    "    first_index = one_data.index('[')\n",
    "    second_index = one_data.index(']')\n",
    "    friends_string = one_data[first_index+1:second_index]\n",
    "    return friends_string # возвращаем строку с id друзей пользователя\n",
    "\n",
    "# пример\n",
    "# limarenko_friends = get_friends_of_user_only_ids('533710525')\n",
    "# limarenko_friends\n",
    "\n",
    "def get_friends_of_user_full_info_in_df(user_id, type_of = 'id', method='friends.get'):\n",
    "    '''Функция get_friends_of_user_info_df принимает на вход ИЛИ id пользователя ИЛИ ССЫЛКУ ВКонтакте \n",
    "    и возвращает датафрейм, где перечислены данные его друзей.\n",
    "    \n",
    "    Method: https://dev.vk.com/method/friends.get\n",
    "    \n",
    "    Args:\n",
    "        :user_id: id пользователя ВКонтакте;\n",
    "        :type_of: тип введенных данных (id пользователя ('id')/ссылка на него('link')).\n",
    "        \n",
    "    Returns:\n",
    "        :pandas.DataFrame: датафрейм с информацией о друзьях пользователя.\n",
    "        \n",
    "        > friend_owner: id пользователя, информация о чьих друзьях указана далее.\n",
    "        > user_id: id пользователя;\n",
    "        > user_name: имя пользователя;\n",
    "        > user_surname: фамилия пользователя;\n",
    "        > user_sex: пол пользователя;\n",
    "        > user_domain: короткое имя пользователя (нужно для ссылки);\n",
    "        > user_bdate: дата рождения пользователя (иногда указывается без года);\n",
    "        > user_city: город пользователя;\n",
    "        > user_country: страна пользоваателя;\n",
    "        > user_is_closed: закрыта ли страница пользователя;\n",
    "        > user_link: сссылка на страницу пользователя.\n",
    "        \n",
    "    Example:\n",
    "        >>>> limarenko_friends = get_friends_of_user('533710525')\n",
    "        >>>> limarenko_friends # '626130,957188,1053362,2058801,3279648,4120747,5823842,8523846,11146055,11860274,25758390,169272036,171462727,182026369,196603818,322659228,462979979,520753933,538671248,550960397,550966564,551354669,551382456,551506228,578750417,606932606,616844912,633974128,660930698,665881497,670425420,689458339,703017057,703621379,708192084,708405503,710516910,710520153,710787650,711209497,711761122,711978083,711991565,712541914,712544833,712545388,713904031\n",
    "\n",
    "    '''\n",
    "    \n",
    "    # если type_of = 'link' (то есть, не id), нужно получить id пользователя\n",
    "    if type_of != 'id':\n",
    "        link = user_id #значит, нам попалась ссылка и из нее нужно вынуть screen_name пользователя\n",
    "        screen_name = link.replace('https://vk.com/', '')\n",
    "        \n",
    "        # может быть такое, что ссылка на полььзователя содержит id (vk.com/id777)\n",
    "        if screen_name.startswith('id') == True and screen_name[2:].isdigit() == True:\n",
    "            user_id = screen_name.replace('id', '')\n",
    "        \n",
    "        # если нет, нам нужно сделать запрос к ВК и получить id пользователя\n",
    "        else:\n",
    "            method_for_get_id = 'utils.resolveScreenName'\n",
    "            parameters='screen_name=' + screen_name\n",
    "            url = 'https://api.vk.com/method/' + method_for_get_id +'?'+ parameters + '&v=' + version + '&access_token=' + token\n",
    "            response = requests.get(url)\n",
    "            response = response.json()\n",
    "            user_id = response['response']['object_id']\n",
    "\n",
    "    \n",
    "    # осуществляем запрос\n",
    "    parameters = 'count=5000' + '&extended=1' + '&fields=bdate,city,country,sex,domain' + '&name_case=nom' # берем максимум - 5000 друзей\n",
    "    url = 'https://api.vk.com/method/' + method +'?' + parameters + '&v=' + version + '&access_token=' + token + '&user_id=' + str(user_id)\n",
    "    response = requests.get(url)\n",
    "    response = response.json()\n",
    "    \n",
    "    # собираем данные для датафрейма\n",
    "    number_of_friends = response['response']['count'] # число друзей у пользователя\n",
    "    \n",
    "    # список: чьи друзья в этом датафрейме?\n",
    "    owner_of_friends = [user_id] * number_of_friends\n",
    "    \n",
    "    \n",
    "    # общая информация, получается без необходимости использовать try-except.\n",
    "    friends_ids = [response['response']['items'][i]['id'] for i in range(number_of_friends)]\n",
    "    friends_first_names = [response['response']['items'][i]['first_name'] for i in range(number_of_friends)]\n",
    "    friends_second_names = [response['response']['items'][i]['last_name'] for i in range(number_of_friends)]\n",
    "    friends_sexs = [response['response']['items'][i]['sex'] for i in range(number_of_friends)]\n",
    "    friends_is_closed = [response['response']['items'][i]['is_closed'] for i in range(number_of_friends)]\n",
    "\n",
    "\n",
    "    \n",
    "    # информация, которую нужно получать через try-except\n",
    "    friends_domains = []\n",
    "    for i in range(number_of_friends):\n",
    "        try:\n",
    "            one_domain = response['response']['items'][i]['domain']\n",
    "        except:\n",
    "            one_domain = str(response['response']['items'][i]['id'])\n",
    "        friends_domains.append(one_domain)\n",
    "        \n",
    "        \n",
    "    ## ссылки на пользвателей; если есть domain - значит, с domain; если нет - значит, с id\n",
    "    friends_links = list(map(lambda x: f'https://vk.com/{x}' if x.isdigit() == False else \\\n",
    "                       f'https://vk.com/id{x}', friends_domains))\n",
    "\n",
    "    friends_bdates = []\n",
    "    for i in range(number_of_friends):\n",
    "        try:\n",
    "            one_bdates = response['response']['items'][i]['bdate']\n",
    "        except:\n",
    "            one_bdates = ''\n",
    "        friends_bdates.append(one_bdates)\n",
    "\n",
    "\n",
    "    friends_cities = []\n",
    "    for i in range(number_of_friends):\n",
    "        try:\n",
    "            one_city = response['response']['items'][i]['city']['title']\n",
    "        except:\n",
    "            one_city = ''\n",
    "        friends_cities.append(one_city)\n",
    "\n",
    "\n",
    "    friends_countries = []\n",
    "    for i in range(number_of_friends):\n",
    "        try:\n",
    "            one_country = response['response']['items'][i]['country']['title']\n",
    "        except:\n",
    "            one_country = ''\n",
    "        friends_countries.append(one_country)\n",
    "        \n",
    "        \n",
    "    # собираем датафрейм\n",
    "    friends_df = pd.DataFrame({'friend_owner': owner_of_friends,\n",
    "                               'user_id': friends_ids,\n",
    "                              'user_name': friends_first_names,\n",
    "                              'user_surname': friends_second_names,\n",
    "                              'user_sex': friends_sexs,\n",
    "                              'user_domain': friends_domains,\n",
    "                              'user_bdate': friends_bdates,\n",
    "                              'user_city': friends_cities,\n",
    "                              'user_country': friends_countries,\n",
    "                              'user_is_closed': friends_is_closed,\n",
    "                              'user_link': friends_links})\n",
    "    return friends_df\n",
    "\n",
    "# пример 1\n",
    "# friends_data = get_friends_of_user_full_info_in_df('533710525')\n",
    "# friends_data\n",
    "\n",
    "# пример 2\n",
    "# friends_data = get_friends_of_user_full_info_in_df('https://vk.com/lika.kapustina', type_of = 'link')\n",
    "# friends_data\n",
    "\n",
    "def get_friends_of_a_few_users_full_info_in_df(users_ids, type_of='id', method='friends.get'):\n",
    "    '''Функция get_friends_of_a_few_users_info_df принимает на вход строку с id пользователей ВКонтакте,\n",
    "    записанными через запятую, обращается к функции get_friends_of_user_full_info_in_df(user_id),\n",
    "    и возвращает pandas.DataFrame с информацией о всех друзьях всех указанных пользователей\n",
    "    \n",
    "    Method: https://dev.vk.com/method/friends.get\n",
    "    \n",
    "    Args:\n",
    "        :users_ids: string: ИЛИ id пользователей ВКонтакте ИЛИ ссылки на страницы пользователей ВКонтакте, записанных через запятую;\n",
    "        :type_of: string: тип данных на входе (по умолчанию 'id' - id пользователей), либо 'link' - ссылки на пользователей.\n",
    "    \n",
    "    Returns:\n",
    "        :pandas.DataFrame: датафрейм с информацией о друзьях пользователей, чьи id переданы функции.\n",
    "        > friend_owner: id пользователя, информация о чьих друзьях указана далее.\n",
    "        > user_id: id пользователя;\n",
    "        > user_name: имя пользователя;\n",
    "        > user_surname: фамилия пользователя;\n",
    "        > user_sex: пол пользователя;\n",
    "        > user_domain: короткое имя пользователя (нужно для ссылки);\n",
    "        > user_bdate: дата рождения пользователя (иногда указывается без года);\n",
    "        > user_city: город пользователя;\n",
    "        > user_country: страна пользоваателя;\n",
    "        > user_is_closed: закрыта ли страница пользователя;\n",
    "        > user_link: сссылка на страницу пользователя.\n",
    "        \n",
    "    Example:\n",
    "        >>>> some_friends = get_friends_of_a_few_users_full_info_in_df('48905537,12900237')\n",
    "        >>>> some_friends\n",
    "        \n",
    "    Exmple:\n",
    "        >>>> my_friends_list = ['https://vk.com/zzimablue',\n",
    "                                   'https://vk.com/ksperov',\n",
    "                                   'https://vk.com/sofiagreseva',\n",
    "                                   'https://vk.com/sdilov',\n",
    "                                   'https://vk.com/narepapoyan',\n",
    "                                   'https://vk.com/kirillmuzyka']\n",
    "        >>>> my_friends_string = ','.join(my_friends_list)\n",
    "        >>>> friends_of_my_friends = get_friends_of_a_few_users_full_info_in_df(my_friends_string, type_of='link')\n",
    "        >>>> friends_of_my_friends\n",
    "        \n",
    "        \n",
    "    '''\n",
    "    \n",
    "    users_ids = users_ids.split(',')\n",
    "    \n",
    "    full_users_friends_data = pd.DataFrame()\n",
    "    \n",
    "    for user_id in tqdm.tqdm(users_ids):\n",
    "        try:\n",
    "            one_user_friends_data = get_friends_of_user_full_info_in_df(user_id,\n",
    "                                                                       type_of = type_of)\n",
    "            full_users_friends_data = pd.concat([full_users_friends_data, one_user_friends_data])\n",
    "            sleep(0.4)\n",
    "        except Exception as e:\n",
    "            print(e)\n",
    "    \n",
    "    return full_users_friends_data\n",
    "\n",
    "# ПРИМЕР 1\n",
    "# my_friends_list = ['https://vk.com/zzimablue', 'https://vk.com/ksperov', 'https://vk.com/sofiagreseva', 'https://vk.com/sdilov', 'https://vk.com/narepapoyan', 'https://vk.com/kirillmuzyka']\n",
    "# my_friends_string = ','.join(my_friends_list)\n",
    "# friends_of_my_friends = get_friends_of_a_few_users_full_info_in_df(my_friends_string, type_of='link')\n",
    "# friends_of_my_friends\n",
    "\n",
    "# ПРИМЕР 2\n",
    "# some_friends = get_friends_of_a_few_users_full_info_in_df('48905537,12900237')\n",
    "# some_friends"
   ]
  },
  {
   "cell_type": "code",
   "execution_count": 16,
   "id": "af1834a1",
   "metadata": {},
   "outputs": [
    {
     "data": {
      "text/html": [
       "<div>\n",
       "<style scoped>\n",
       "    .dataframe tbody tr th:only-of-type {\n",
       "        vertical-align: middle;\n",
       "    }\n",
       "\n",
       "    .dataframe tbody tr th {\n",
       "        vertical-align: top;\n",
       "    }\n",
       "\n",
       "    .dataframe thead th {\n",
       "        text-align: right;\n",
       "    }\n",
       "</style>\n",
       "<table border=\"1\" class=\"dataframe\">\n",
       "  <thead>\n",
       "    <tr style=\"text-align: right;\">\n",
       "      <th></th>\n",
       "      <th>friend_owner</th>\n",
       "      <th>user_id</th>\n",
       "      <th>user_name</th>\n",
       "      <th>user_surname</th>\n",
       "      <th>user_sex</th>\n",
       "      <th>user_domain</th>\n",
       "      <th>user_bdate</th>\n",
       "      <th>user_city</th>\n",
       "      <th>user_country</th>\n",
       "      <th>user_is_closed</th>\n",
       "      <th>user_link</th>\n",
       "    </tr>\n",
       "  </thead>\n",
       "  <tbody>\n",
       "    <tr>\n",
       "      <th>0</th>\n",
       "      <td>234851997</td>\n",
       "      <td>9804</td>\n",
       "      <td>Никита</td>\n",
       "      <td>Бешта</td>\n",
       "      <td>2</td>\n",
       "      <td>beshta</td>\n",
       "      <td>25.8.1988</td>\n",
       "      <td></td>\n",
       "      <td></td>\n",
       "      <td>True</td>\n",
       "      <td>https://vk.com/beshta</td>\n",
       "    </tr>\n",
       "    <tr>\n",
       "      <th>1</th>\n",
       "      <td>234851997</td>\n",
       "      <td>68046</td>\n",
       "      <td>Руслан</td>\n",
       "      <td>Хаиткулов</td>\n",
       "      <td>2</td>\n",
       "      <td>paginatorx</td>\n",
       "      <td>7.12</td>\n",
       "      <td>Москва</td>\n",
       "      <td>Россия</td>\n",
       "      <td>False</td>\n",
       "      <td>https://vk.com/paginatorx</td>\n",
       "    </tr>\n",
       "    <tr>\n",
       "      <th>2</th>\n",
       "      <td>234851997</td>\n",
       "      <td>1164920</td>\n",
       "      <td>Игорь</td>\n",
       "      <td>Томашов</td>\n",
       "      <td>2</td>\n",
       "      <td>itomashov</td>\n",
       "      <td>23.9.1988</td>\n",
       "      <td>Москва</td>\n",
       "      <td>Россия</td>\n",
       "      <td>False</td>\n",
       "      <td>https://vk.com/itomashov</td>\n",
       "    </tr>\n",
       "    <tr>\n",
       "      <th>3</th>\n",
       "      <td>234851997</td>\n",
       "      <td>1320605</td>\n",
       "      <td>Ольга</td>\n",
       "      <td>Савинская</td>\n",
       "      <td>1</td>\n",
       "      <td>id1320605</td>\n",
       "      <td></td>\n",
       "      <td>Москва</td>\n",
       "      <td>Россия</td>\n",
       "      <td>False</td>\n",
       "      <td>https://vk.com/id1320605</td>\n",
       "    </tr>\n",
       "    <tr>\n",
       "      <th>4</th>\n",
       "      <td>234851997</td>\n",
       "      <td>1441323</td>\n",
       "      <td>Олеся</td>\n",
       "      <td>Ващенко</td>\n",
       "      <td>1</td>\n",
       "      <td>id1441323</td>\n",
       "      <td>6.5</td>\n",
       "      <td>Москва</td>\n",
       "      <td>Россия</td>\n",
       "      <td>False</td>\n",
       "      <td>https://vk.com/id1441323</td>\n",
       "    </tr>\n",
       "    <tr>\n",
       "      <th>...</th>\n",
       "      <td>...</td>\n",
       "      <td>...</td>\n",
       "      <td>...</td>\n",
       "      <td>...</td>\n",
       "      <td>...</td>\n",
       "      <td>...</td>\n",
       "      <td>...</td>\n",
       "      <td>...</td>\n",
       "      <td>...</td>\n",
       "      <td>...</td>\n",
       "      <td>...</td>\n",
       "    </tr>\n",
       "    <tr>\n",
       "      <th>394</th>\n",
       "      <td>234851997</td>\n",
       "      <td>667598056</td>\n",
       "      <td>Anastasia</td>\n",
       "      <td>Afonina</td>\n",
       "      <td>1</td>\n",
       "      <td>kkktasy</td>\n",
       "      <td>1.5</td>\n",
       "      <td>Москва</td>\n",
       "      <td>Россия</td>\n",
       "      <td>True</td>\n",
       "      <td>https://vk.com/kkktasy</td>\n",
       "    </tr>\n",
       "    <tr>\n",
       "      <th>395</th>\n",
       "      <td>234851997</td>\n",
       "      <td>672578683</td>\n",
       "      <td>Степан</td>\n",
       "      <td>Беспалов</td>\n",
       "      <td>2</td>\n",
       "      <td>id672578683</td>\n",
       "      <td>25.12.2004</td>\n",
       "      <td></td>\n",
       "      <td></td>\n",
       "      <td>True</td>\n",
       "      <td>https://vk.com/id672578683</td>\n",
       "    </tr>\n",
       "    <tr>\n",
       "      <th>396</th>\n",
       "      <td>234851997</td>\n",
       "      <td>673660821</td>\n",
       "      <td>Андрей</td>\n",
       "      <td>Полищук</td>\n",
       "      <td>2</td>\n",
       "      <td>hot_frosty_woman</td>\n",
       "      <td>19.3.2004</td>\n",
       "      <td>Мирный</td>\n",
       "      <td>Россия</td>\n",
       "      <td>False</td>\n",
       "      <td>https://vk.com/hot_frosty_woman</td>\n",
       "    </tr>\n",
       "    <tr>\n",
       "      <th>397</th>\n",
       "      <td>234851997</td>\n",
       "      <td>686540851</td>\n",
       "      <td>Владислав</td>\n",
       "      <td>Фурсов</td>\n",
       "      <td>2</td>\n",
       "      <td>id686540851</td>\n",
       "      <td></td>\n",
       "      <td></td>\n",
       "      <td></td>\n",
       "      <td>False</td>\n",
       "      <td>https://vk.com/id686540851</td>\n",
       "    </tr>\n",
       "    <tr>\n",
       "      <th>398</th>\n",
       "      <td>234851997</td>\n",
       "      <td>786286130</td>\n",
       "      <td>Анна</td>\n",
       "      <td>Соловьева</td>\n",
       "      <td>1</td>\n",
       "      <td>chere_rose</td>\n",
       "      <td>23.6.2005</td>\n",
       "      <td>Кардымово</td>\n",
       "      <td>Россия</td>\n",
       "      <td>True</td>\n",
       "      <td>https://vk.com/chere_rose</td>\n",
       "    </tr>\n",
       "  </tbody>\n",
       "</table>\n",
       "<p>399 rows × 11 columns</p>\n",
       "</div>"
      ],
      "text/plain": [
       "     friend_owner    user_id  user_name user_surname  user_sex   \n",
       "0       234851997       9804     Никита        Бешта         2  \\\n",
       "1       234851997      68046     Руслан    Хаиткулов         2   \n",
       "2       234851997    1164920      Игорь      Томашов         2   \n",
       "3       234851997    1320605      Ольга    Савинская         1   \n",
       "4       234851997    1441323      Олеся      Ващенко         1   \n",
       "..            ...        ...        ...          ...       ...   \n",
       "394     234851997  667598056  Anastasia      Afonina         1   \n",
       "395     234851997  672578683     Степан     Беспалов         2   \n",
       "396     234851997  673660821     Андрей      Полищук         2   \n",
       "397     234851997  686540851  Владислав       Фурсов         2   \n",
       "398     234851997  786286130       Анна    Соловьева         1   \n",
       "\n",
       "          user_domain  user_bdate  user_city user_country  user_is_closed   \n",
       "0              beshta   25.8.1988                                    True  \\\n",
       "1          paginatorx        7.12     Москва       Россия           False   \n",
       "2           itomashov   23.9.1988     Москва       Россия           False   \n",
       "3           id1320605                 Москва       Россия           False   \n",
       "4           id1441323         6.5     Москва       Россия           False   \n",
       "..                ...         ...        ...          ...             ...   \n",
       "394           kkktasy         1.5     Москва       Россия            True   \n",
       "395       id672578683  25.12.2004                                    True   \n",
       "396  hot_frosty_woman   19.3.2004     Мирный       Россия           False   \n",
       "397       id686540851                                               False   \n",
       "398        chere_rose   23.6.2005  Кардымово       Россия            True   \n",
       "\n",
       "                           user_link  \n",
       "0              https://vk.com/beshta  \n",
       "1          https://vk.com/paginatorx  \n",
       "2           https://vk.com/itomashov  \n",
       "3           https://vk.com/id1320605  \n",
       "4           https://vk.com/id1441323  \n",
       "..                               ...  \n",
       "394           https://vk.com/kkktasy  \n",
       "395       https://vk.com/id672578683  \n",
       "396  https://vk.com/hot_frosty_woman  \n",
       "397       https://vk.com/id686540851  \n",
       "398        https://vk.com/chere_rose  \n",
       "\n",
       "[399 rows x 11 columns]"
      ]
     },
     "execution_count": 16,
     "metadata": {},
     "output_type": "execute_result"
    }
   ],
   "source": [
    "friends_data = get_friends_of_user_full_info_in_df('https://vk.com/vavaschenko', type_of = 'link')\n",
    "friends_data"
   ]
  },
  {
   "cell_type": "code",
   "execution_count": 18,
   "id": "fea5f958",
   "metadata": {
    "scrolled": true
   },
   "outputs": [
    {
     "name": "stderr",
     "output_type": "stream",
     "text": [
      "  0%|                                           | 1/399 [00:00<03:57,  1.67it/s]"
     ]
    },
    {
     "name": "stdout",
     "output_type": "stream",
     "text": [
      "'response'\n"
     ]
    },
    {
     "name": "stderr",
     "output_type": "stream",
     "text": [
      "  5%|█▉                                        | 18/399 [00:43<11:32,  1.82s/it]"
     ]
    },
    {
     "name": "stdout",
     "output_type": "stream",
     "text": [
      "'response'\n"
     ]
    },
    {
     "name": "stderr",
     "output_type": "stream",
     "text": [
      "  6%|██▎                                       | 22/399 [00:51<12:00,  1.91s/it]"
     ]
    },
    {
     "name": "stdout",
     "output_type": "stream",
     "text": [
      "'response'\n"
     ]
    },
    {
     "name": "stderr",
     "output_type": "stream",
     "text": [
      "  6%|██▋                                       | 25/399 [00:55<09:02,  1.45s/it]"
     ]
    },
    {
     "name": "stdout",
     "output_type": "stream",
     "text": [
      "'response'\n"
     ]
    },
    {
     "name": "stderr",
     "output_type": "stream",
     "text": [
      "  7%|██▊                                       | 27/399 [00:57<07:49,  1.26s/it]"
     ]
    },
    {
     "name": "stdout",
     "output_type": "stream",
     "text": [
      "'response'\n"
     ]
    },
    {
     "name": "stderr",
     "output_type": "stream",
     "text": [
      "  8%|███▍                                      | 33/399 [01:05<06:31,  1.07s/it]"
     ]
    },
    {
     "name": "stdout",
     "output_type": "stream",
     "text": [
      "'response'\n"
     ]
    },
    {
     "name": "stderr",
     "output_type": "stream",
     "text": [
      " 10%|████                                      | 38/399 [01:14<09:32,  1.58s/it]"
     ]
    },
    {
     "name": "stdout",
     "output_type": "stream",
     "text": [
      "'response'\n"
     ]
    },
    {
     "name": "stderr",
     "output_type": "stream",
     "text": [
      " 10%|████▎                                     | 41/399 [01:19<08:53,  1.49s/it]"
     ]
    },
    {
     "name": "stdout",
     "output_type": "stream",
     "text": [
      "'response'\n"
     ]
    },
    {
     "name": "stderr",
     "output_type": "stream",
     "text": [
      " 12%|█████▏                                    | 49/399 [01:32<07:34,  1.30s/it]"
     ]
    },
    {
     "name": "stdout",
     "output_type": "stream",
     "text": [
      "'response'\n"
     ]
    },
    {
     "name": "stderr",
     "output_type": "stream",
     "text": [
      " 14%|█████▋                                    | 54/399 [01:38<05:36,  1.03it/s]"
     ]
    },
    {
     "name": "stdout",
     "output_type": "stream",
     "text": [
      "'response'\n"
     ]
    },
    {
     "name": "stderr",
     "output_type": "stream",
     "text": [
      "\r",
      " 14%|█████▊                                    | 55/399 [01:38<04:41,  1.22it/s]"
     ]
    },
    {
     "name": "stdout",
     "output_type": "stream",
     "text": [
      "'response'\n"
     ]
    },
    {
     "name": "stderr",
     "output_type": "stream",
     "text": [
      " 17%|███████▎                                  | 69/399 [01:57<05:37,  1.02s/it]"
     ]
    },
    {
     "name": "stdout",
     "output_type": "stream",
     "text": [
      "'response'\n"
     ]
    },
    {
     "name": "stderr",
     "output_type": "stream",
     "text": [
      " 18%|███████▍                                  | 71/399 [01:59<05:05,  1.07it/s]"
     ]
    },
    {
     "name": "stdout",
     "output_type": "stream",
     "text": [
      "'response'\n"
     ]
    },
    {
     "name": "stderr",
     "output_type": "stream",
     "text": [
      " 20%|████████▏                                 | 78/399 [02:11<06:58,  1.30s/it]"
     ]
    },
    {
     "name": "stdout",
     "output_type": "stream",
     "text": [
      "'response'\n"
     ]
    },
    {
     "name": "stderr",
     "output_type": "stream",
     "text": [
      " 20%|████████▍                                 | 80/399 [02:14<06:56,  1.31s/it]"
     ]
    },
    {
     "name": "stdout",
     "output_type": "stream",
     "text": [
      "'response'\n"
     ]
    },
    {
     "name": "stderr",
     "output_type": "stream",
     "text": [
      " 22%|█████████▎                                | 89/399 [02:28<08:18,  1.61s/it]"
     ]
    },
    {
     "name": "stdout",
     "output_type": "stream",
     "text": [
      "'response'\n"
     ]
    },
    {
     "name": "stderr",
     "output_type": "stream",
     "text": [
      " 24%|██████████                                | 95/399 [02:40<08:46,  1.73s/it]"
     ]
    },
    {
     "name": "stdout",
     "output_type": "stream",
     "text": [
      "'response'\n"
     ]
    },
    {
     "name": "stderr",
     "output_type": "stream",
     "text": [
      " 25%|██████████▍                               | 99/399 [02:46<06:34,  1.32s/it]"
     ]
    },
    {
     "name": "stdout",
     "output_type": "stream",
     "text": [
      "'response'\n"
     ]
    },
    {
     "name": "stderr",
     "output_type": "stream",
     "text": [
      " 28%|███████████▎                             | 110/399 [03:07<08:09,  1.69s/it]"
     ]
    },
    {
     "name": "stdout",
     "output_type": "stream",
     "text": [
      "'response'\n"
     ]
    },
    {
     "name": "stderr",
     "output_type": "stream",
     "text": [
      "\r",
      " 28%|███████████▍                             | 111/399 [03:08<06:20,  1.32s/it]"
     ]
    },
    {
     "name": "stdout",
     "output_type": "stream",
     "text": [
      "'response'\n"
     ]
    },
    {
     "name": "stderr",
     "output_type": "stream",
     "text": [
      "\r",
      " 28%|███████████▌                             | 112/399 [03:09<05:39,  1.18s/it]"
     ]
    },
    {
     "name": "stdout",
     "output_type": "stream",
     "text": [
      "'response'\n"
     ]
    },
    {
     "name": "stderr",
     "output_type": "stream",
     "text": [
      " 32%|█████████████▎                           | 129/399 [03:39<08:03,  1.79s/it]"
     ]
    },
    {
     "name": "stdout",
     "output_type": "stream",
     "text": [
      "'response'\n"
     ]
    },
    {
     "name": "stderr",
     "output_type": "stream",
     "text": [
      " 38%|███████████████▋                         | 153/399 [04:19<05:15,  1.28s/it]"
     ]
    },
    {
     "name": "stdout",
     "output_type": "stream",
     "text": [
      "'response'\n"
     ]
    },
    {
     "name": "stderr",
     "output_type": "stream",
     "text": [
      "\r",
      " 39%|███████████████▊                         | 154/399 [04:20<04:24,  1.08s/it]"
     ]
    },
    {
     "name": "stdout",
     "output_type": "stream",
     "text": [
      "'response'\n"
     ]
    },
    {
     "name": "stderr",
     "output_type": "stream",
     "text": [
      " 40%|████████████████▌                        | 161/399 [04:31<05:43,  1.44s/it]"
     ]
    },
    {
     "name": "stdout",
     "output_type": "stream",
     "text": [
      "'response'\n"
     ]
    },
    {
     "name": "stderr",
     "output_type": "stream",
     "text": [
      "\r",
      " 41%|████████████████▋                        | 162/399 [04:32<04:50,  1.23s/it]"
     ]
    },
    {
     "name": "stdout",
     "output_type": "stream",
     "text": [
      "'response'\n"
     ]
    },
    {
     "name": "stderr",
     "output_type": "stream",
     "text": [
      " 43%|█████████████████▍                       | 170/399 [04:45<05:45,  1.51s/it]"
     ]
    },
    {
     "name": "stdout",
     "output_type": "stream",
     "text": [
      "'response'\n"
     ]
    },
    {
     "name": "stderr",
     "output_type": "stream",
     "text": [
      " 43%|█████████████████▊                       | 173/399 [04:49<05:01,  1.33s/it]"
     ]
    },
    {
     "name": "stdout",
     "output_type": "stream",
     "text": [
      "'response'\n"
     ]
    },
    {
     "name": "stderr",
     "output_type": "stream",
     "text": [
      " 45%|██████████████████▍                      | 180/399 [05:01<06:04,  1.66s/it]"
     ]
    },
    {
     "name": "stdout",
     "output_type": "stream",
     "text": [
      "'response'\n"
     ]
    },
    {
     "name": "stderr",
     "output_type": "stream",
     "text": [
      " 46%|██████████████████▉                      | 184/399 [05:08<05:14,  1.46s/it]"
     ]
    },
    {
     "name": "stdout",
     "output_type": "stream",
     "text": [
      "'response'\n"
     ]
    },
    {
     "name": "stderr",
     "output_type": "stream",
     "text": [
      " 50%|████████████████████▌                    | 200/399 [05:39<06:28,  1.95s/it]"
     ]
    },
    {
     "name": "stdout",
     "output_type": "stream",
     "text": [
      "'response'\n"
     ]
    },
    {
     "name": "stderr",
     "output_type": "stream",
     "text": [
      " 51%|█████████████████████                    | 205/399 [05:45<03:37,  1.12s/it]"
     ]
    },
    {
     "name": "stdout",
     "output_type": "stream",
     "text": [
      "'response'\n"
     ]
    },
    {
     "name": "stderr",
     "output_type": "stream",
     "text": [
      " 54%|██████████████████████▏                  | 216/399 [05:57<02:52,  1.06it/s]"
     ]
    },
    {
     "name": "stdout",
     "output_type": "stream",
     "text": [
      "'response'\n"
     ]
    },
    {
     "name": "stderr",
     "output_type": "stream",
     "text": [
      " 57%|███████████████████████▏                 | 226/399 [06:09<02:58,  1.03s/it]"
     ]
    },
    {
     "name": "stdout",
     "output_type": "stream",
     "text": [
      "'response'\n"
     ]
    },
    {
     "name": "stderr",
     "output_type": "stream",
     "text": [
      " 58%|███████████████████████▉                 | 233/399 [06:19<03:08,  1.13s/it]"
     ]
    },
    {
     "name": "stdout",
     "output_type": "stream",
     "text": [
      "'response'\n"
     ]
    },
    {
     "name": "stderr",
     "output_type": "stream",
     "text": [
      " 60%|████████████████████████▌                | 239/399 [06:26<02:49,  1.06s/it]"
     ]
    },
    {
     "name": "stdout",
     "output_type": "stream",
     "text": [
      "'response'\n"
     ]
    },
    {
     "name": "stderr",
     "output_type": "stream",
     "text": [
      " 62%|█████████████████████████▍               | 247/399 [06:36<02:40,  1.06s/it]"
     ]
    },
    {
     "name": "stdout",
     "output_type": "stream",
     "text": [
      "'response'\n"
     ]
    },
    {
     "name": "stderr",
     "output_type": "stream",
     "text": [
      " 64%|██████████████████████████               | 254/399 [06:47<03:29,  1.45s/it]"
     ]
    },
    {
     "name": "stdout",
     "output_type": "stream",
     "text": [
      "'response'\n"
     ]
    },
    {
     "name": "stderr",
     "output_type": "stream",
     "text": [
      " 66%|███████████████████████████              | 263/399 [06:59<02:47,  1.23s/it]"
     ]
    },
    {
     "name": "stdout",
     "output_type": "stream",
     "text": [
      "'response'\n"
     ]
    },
    {
     "name": "stderr",
     "output_type": "stream",
     "text": [
      " 67%|███████████████████████████▌             | 268/399 [07:07<03:04,  1.41s/it]"
     ]
    },
    {
     "name": "stdout",
     "output_type": "stream",
     "text": [
      "'response'\n"
     ]
    },
    {
     "name": "stderr",
     "output_type": "stream",
     "text": [
      " 68%|███████████████████████████▋             | 270/399 [07:09<02:29,  1.16s/it]"
     ]
    },
    {
     "name": "stdout",
     "output_type": "stream",
     "text": [
      "'response'\n"
     ]
    },
    {
     "name": "stderr",
     "output_type": "stream",
     "text": [
      "\r",
      " 68%|███████████████████████████▊             | 271/399 [07:10<02:02,  1.05it/s]"
     ]
    },
    {
     "name": "stdout",
     "output_type": "stream",
     "text": [
      "'response'\n"
     ]
    },
    {
     "name": "stderr",
     "output_type": "stream",
     "text": [
      "\r",
      " 68%|███████████████████████████▉             | 272/399 [07:10<01:46,  1.20it/s]"
     ]
    },
    {
     "name": "stdout",
     "output_type": "stream",
     "text": [
      "'response'\n"
     ]
    },
    {
     "name": "stderr",
     "output_type": "stream",
     "text": [
      " 69%|████████████████████████████▎            | 275/399 [07:16<03:14,  1.57s/it]"
     ]
    },
    {
     "name": "stdout",
     "output_type": "stream",
     "text": [
      "'response'\n"
     ]
    },
    {
     "name": "stderr",
     "output_type": "stream",
     "text": [
      " 70%|████████████████████████████▊            | 280/399 [07:27<02:56,  1.49s/it]"
     ]
    },
    {
     "name": "stdout",
     "output_type": "stream",
     "text": [
      "'response'\n"
     ]
    },
    {
     "name": "stderr",
     "output_type": "stream",
     "text": [
      " 71%|████████████████████████████▉            | 282/399 [07:28<02:09,  1.11s/it]"
     ]
    },
    {
     "name": "stdout",
     "output_type": "stream",
     "text": [
      "'response'\n"
     ]
    },
    {
     "name": "stderr",
     "output_type": "stream",
     "text": [
      " 71%|█████████████████████████████▏           | 284/399 [07:30<01:36,  1.19it/s]"
     ]
    },
    {
     "name": "stdout",
     "output_type": "stream",
     "text": [
      "'response'\n"
     ]
    },
    {
     "name": "stderr",
     "output_type": "stream",
     "text": [
      " 74%|██████████████████████████████▎          | 295/399 [07:45<02:00,  1.16s/it]"
     ]
    },
    {
     "name": "stdout",
     "output_type": "stream",
     "text": [
      "'response'\n"
     ]
    },
    {
     "name": "stderr",
     "output_type": "stream",
     "text": [
      " 80%|████████████████████████████████▉        | 321/399 [08:22<01:30,  1.16s/it]"
     ]
    },
    {
     "name": "stdout",
     "output_type": "stream",
     "text": [
      "'response'\n"
     ]
    },
    {
     "name": "stderr",
     "output_type": "stream",
     "text": [
      "\r",
      " 81%|█████████████████████████████████        | 322/399 [08:23<01:12,  1.06it/s]"
     ]
    },
    {
     "name": "stdout",
     "output_type": "stream",
     "text": [
      "'response'\n"
     ]
    },
    {
     "name": "stderr",
     "output_type": "stream",
     "text": [
      " 82%|█████████████████████████████████▊       | 329/399 [08:33<01:21,  1.16s/it]"
     ]
    },
    {
     "name": "stdout",
     "output_type": "stream",
     "text": [
      "'response'\n"
     ]
    },
    {
     "name": "stderr",
     "output_type": "stream",
     "text": [
      " 84%|██████████████████████████████████▌      | 336/399 [08:40<01:01,  1.02it/s]"
     ]
    },
    {
     "name": "stdout",
     "output_type": "stream",
     "text": [
      "'response'\n"
     ]
    },
    {
     "name": "stderr",
     "output_type": "stream",
     "text": [
      "\r",
      " 84%|██████████████████████████████████▋      | 337/399 [08:40<00:50,  1.24it/s]"
     ]
    },
    {
     "name": "stdout",
     "output_type": "stream",
     "text": [
      "'response'\n"
     ]
    },
    {
     "name": "stderr",
     "output_type": "stream",
     "text": [
      " 86%|███████████████████████████████████▏     | 343/399 [08:49<01:04,  1.16s/it]"
     ]
    },
    {
     "name": "stdout",
     "output_type": "stream",
     "text": [
      "'response'\n"
     ]
    },
    {
     "name": "stderr",
     "output_type": "stream",
     "text": [
      " 87%|███████████████████████████████████▋     | 347/399 [08:53<00:53,  1.02s/it]"
     ]
    },
    {
     "name": "stdout",
     "output_type": "stream",
     "text": [
      "'response'\n"
     ]
    },
    {
     "name": "stderr",
     "output_type": "stream",
     "text": [
      " 88%|████████████████████████████████████▏    | 352/399 [08:58<00:43,  1.08it/s]"
     ]
    },
    {
     "name": "stdout",
     "output_type": "stream",
     "text": [
      "'response'\n"
     ]
    },
    {
     "name": "stderr",
     "output_type": "stream",
     "text": [
      " 91%|█████████████████████████████████████▏   | 362/399 [09:14<00:42,  1.15s/it]"
     ]
    },
    {
     "name": "stdout",
     "output_type": "stream",
     "text": [
      "'response'\n"
     ]
    },
    {
     "name": "stderr",
     "output_type": "stream",
     "text": [
      "\r",
      " 91%|█████████████████████████████████████▎   | 363/399 [09:15<00:33,  1.09it/s]"
     ]
    },
    {
     "name": "stdout",
     "output_type": "stream",
     "text": [
      "'response'\n"
     ]
    },
    {
     "name": "stderr",
     "output_type": "stream",
     "text": [
      " 92%|█████████████████████████████████████▋   | 367/399 [09:21<00:36,  1.15s/it]"
     ]
    },
    {
     "name": "stdout",
     "output_type": "stream",
     "text": [
      "'response'\n"
     ]
    },
    {
     "name": "stderr",
     "output_type": "stream",
     "text": [
      " 95%|██████████████████████████████████████▉  | 379/399 [09:34<00:16,  1.19it/s]"
     ]
    },
    {
     "name": "stdout",
     "output_type": "stream",
     "text": [
      "'response'\n"
     ]
    },
    {
     "name": "stderr",
     "output_type": "stream",
     "text": [
      " 95%|███████████████████████████████████████▏ | 381/399 [09:36<00:12,  1.41it/s]"
     ]
    },
    {
     "name": "stdout",
     "output_type": "stream",
     "text": [
      "'response'\n"
     ]
    },
    {
     "name": "stderr",
     "output_type": "stream",
     "text": [
      "\r",
      " 96%|███████████████████████████████████████▎ | 382/399 [09:36<00:10,  1.61it/s]"
     ]
    },
    {
     "name": "stdout",
     "output_type": "stream",
     "text": [
      "'response'\n"
     ]
    },
    {
     "name": "stderr",
     "output_type": "stream",
     "text": [
      " 98%|████████████████████████████████████████▎| 392/399 [09:46<00:05,  1.21it/s]"
     ]
    },
    {
     "name": "stdout",
     "output_type": "stream",
     "text": [
      "'response'\n"
     ]
    },
    {
     "name": "stderr",
     "output_type": "stream",
     "text": [
      " 99%|████████████████████████████████████████▌| 395/399 [09:49<00:02,  1.35it/s]"
     ]
    },
    {
     "name": "stdout",
     "output_type": "stream",
     "text": [
      "'response'\n"
     ]
    },
    {
     "name": "stderr",
     "output_type": "stream",
     "text": [
      "\r",
      " 99%|████████████████████████████████████████▋| 396/399 [09:49<00:01,  1.72it/s]"
     ]
    },
    {
     "name": "stdout",
     "output_type": "stream",
     "text": [
      "'response'\n"
     ]
    },
    {
     "name": "stderr",
     "output_type": "stream",
     "text": [
      "100%|█████████████████████████████████████████| 399/399 [09:52<00:00,  1.49s/it]\n"
     ]
    },
    {
     "data": {
      "text/html": [
       "<div>\n",
       "<style scoped>\n",
       "    .dataframe tbody tr th:only-of-type {\n",
       "        vertical-align: middle;\n",
       "    }\n",
       "\n",
       "    .dataframe tbody tr th {\n",
       "        vertical-align: top;\n",
       "    }\n",
       "\n",
       "    .dataframe thead th {\n",
       "        text-align: right;\n",
       "    }\n",
       "</style>\n",
       "<table border=\"1\" class=\"dataframe\">\n",
       "  <thead>\n",
       "    <tr style=\"text-align: right;\">\n",
       "      <th></th>\n",
       "      <th>friend_owner</th>\n",
       "      <th>user_id</th>\n",
       "      <th>user_name</th>\n",
       "      <th>user_surname</th>\n",
       "      <th>user_sex</th>\n",
       "      <th>user_domain</th>\n",
       "      <th>user_bdate</th>\n",
       "      <th>user_city</th>\n",
       "      <th>user_country</th>\n",
       "      <th>user_is_closed</th>\n",
       "      <th>user_link</th>\n",
       "    </tr>\n",
       "  </thead>\n",
       "  <tbody>\n",
       "    <tr>\n",
       "      <th>0</th>\n",
       "      <td>68046</td>\n",
       "      <td>2841</td>\n",
       "      <td>Юлия</td>\n",
       "      <td>Кузнецова</td>\n",
       "      <td>1</td>\n",
       "      <td>id2841</td>\n",
       "      <td>25.3.1987</td>\n",
       "      <td>Москва</td>\n",
       "      <td>Россия</td>\n",
       "      <td>False</td>\n",
       "      <td>https://vk.com/id2841</td>\n",
       "    </tr>\n",
       "    <tr>\n",
       "      <th>1</th>\n",
       "      <td>68046</td>\n",
       "      <td>10822</td>\n",
       "      <td>Андрей</td>\n",
       "      <td>Алдашев</td>\n",
       "      <td>2</td>\n",
       "      <td>id10822</td>\n",
       "      <td>28.3.1983</td>\n",
       "      <td>Москва</td>\n",
       "      <td>Россия</td>\n",
       "      <td>False</td>\n",
       "      <td>https://vk.com/id10822</td>\n",
       "    </tr>\n",
       "    <tr>\n",
       "      <th>2</th>\n",
       "      <td>68046</td>\n",
       "      <td>14024</td>\n",
       "      <td>Алия</td>\n",
       "      <td>Пашкеева</td>\n",
       "      <td>1</td>\n",
       "      <td>id14024</td>\n",
       "      <td>12.7.1988</td>\n",
       "      <td>Москва</td>\n",
       "      <td>Россия</td>\n",
       "      <td>False</td>\n",
       "      <td>https://vk.com/id14024</td>\n",
       "    </tr>\n",
       "    <tr>\n",
       "      <th>3</th>\n",
       "      <td>68046</td>\n",
       "      <td>15233</td>\n",
       "      <td>Наталия</td>\n",
       "      <td>Наймарк</td>\n",
       "      <td>1</td>\n",
       "      <td>nataliya_mogilevskaya</td>\n",
       "      <td>22.11</td>\n",
       "      <td></td>\n",
       "      <td></td>\n",
       "      <td>False</td>\n",
       "      <td>https://vk.com/nataliya_mogilevskaya</td>\n",
       "    </tr>\n",
       "    <tr>\n",
       "      <th>4</th>\n",
       "      <td>68046</td>\n",
       "      <td>15357</td>\n",
       "      <td>Ким</td>\n",
       "      <td>Галачян</td>\n",
       "      <td>2</td>\n",
       "      <td>kimezz</td>\n",
       "      <td>11.8.1988</td>\n",
       "      <td>Москва</td>\n",
       "      <td>Россия</td>\n",
       "      <td>False</td>\n",
       "      <td>https://vk.com/kimezz</td>\n",
       "    </tr>\n",
       "    <tr>\n",
       "      <th>...</th>\n",
       "      <td>...</td>\n",
       "      <td>...</td>\n",
       "      <td>...</td>\n",
       "      <td>...</td>\n",
       "      <td>...</td>\n",
       "      <td>...</td>\n",
       "      <td>...</td>\n",
       "      <td>...</td>\n",
       "      <td>...</td>\n",
       "      <td>...</td>\n",
       "      <td>...</td>\n",
       "    </tr>\n",
       "    <tr>\n",
       "      <th>1287</th>\n",
       "      <td>786286130</td>\n",
       "      <td>785443059</td>\n",
       "      <td>Амина</td>\n",
       "      <td>Гончаренко</td>\n",
       "      <td>1</td>\n",
       "      <td>id785443059</td>\n",
       "      <td>22.3.2004</td>\n",
       "      <td></td>\n",
       "      <td></td>\n",
       "      <td>False</td>\n",
       "      <td>https://vk.com/id785443059</td>\n",
       "    </tr>\n",
       "    <tr>\n",
       "      <th>1288</th>\n",
       "      <td>786286130</td>\n",
       "      <td>793417890</td>\n",
       "      <td>София</td>\n",
       "      <td>Ситнова</td>\n",
       "      <td>1</td>\n",
       "      <td>id793417890</td>\n",
       "      <td>17.5.1972</td>\n",
       "      <td></td>\n",
       "      <td></td>\n",
       "      <td>False</td>\n",
       "      <td>https://vk.com/id793417890</td>\n",
       "    </tr>\n",
       "    <tr>\n",
       "      <th>1289</th>\n",
       "      <td>786286130</td>\n",
       "      <td>793556776</td>\n",
       "      <td>Роман</td>\n",
       "      <td>Семенов</td>\n",
       "      <td>2</td>\n",
       "      <td>id793556776</td>\n",
       "      <td>6.7.2004</td>\n",
       "      <td></td>\n",
       "      <td></td>\n",
       "      <td>False</td>\n",
       "      <td>https://vk.com/id793556776</td>\n",
       "    </tr>\n",
       "    <tr>\n",
       "      <th>1290</th>\n",
       "      <td>786286130</td>\n",
       "      <td>793837037</td>\n",
       "      <td>Kevin</td>\n",
       "      <td>Calderon</td>\n",
       "      <td>2</td>\n",
       "      <td>id793837037</td>\n",
       "      <td>21.2.2004</td>\n",
       "      <td>México</td>\n",
       "      <td>Мексика</td>\n",
       "      <td>False</td>\n",
       "      <td>https://vk.com/id793837037</td>\n",
       "    </tr>\n",
       "    <tr>\n",
       "      <th>1291</th>\n",
       "      <td>786286130</td>\n",
       "      <td>797179846</td>\n",
       "      <td>Кристина</td>\n",
       "      <td>Комкова</td>\n",
       "      <td>1</td>\n",
       "      <td>id797179846</td>\n",
       "      <td>17.10.2000</td>\n",
       "      <td>Люберцы</td>\n",
       "      <td>Россия</td>\n",
       "      <td>False</td>\n",
       "      <td>https://vk.com/id797179846</td>\n",
       "    </tr>\n",
       "  </tbody>\n",
       "</table>\n",
       "<p>199508 rows × 11 columns</p>\n",
       "</div>"
      ],
      "text/plain": [
       "     friend_owner    user_id user_name user_surname  user_sex   \n",
       "0           68046       2841      Юлия    Кузнецова         1  \\\n",
       "1           68046      10822    Андрей      Алдашев         2   \n",
       "2           68046      14024      Алия     Пашкеева         1   \n",
       "3           68046      15233   Наталия      Наймарк         1   \n",
       "4           68046      15357       Ким      Галачян         2   \n",
       "...           ...        ...       ...          ...       ...   \n",
       "1287    786286130  785443059     Амина   Гончаренко         1   \n",
       "1288    786286130  793417890     София      Ситнова         1   \n",
       "1289    786286130  793556776     Роман      Семенов         2   \n",
       "1290    786286130  793837037     Kevin     Calderon         2   \n",
       "1291    786286130  797179846  Кристина      Комкова         1   \n",
       "\n",
       "                user_domain  user_bdate user_city user_country   \n",
       "0                    id2841   25.3.1987    Москва       Россия  \\\n",
       "1                   id10822   28.3.1983    Москва       Россия   \n",
       "2                   id14024   12.7.1988    Москва       Россия   \n",
       "3     nataliya_mogilevskaya       22.11                          \n",
       "4                    kimezz   11.8.1988    Москва       Россия   \n",
       "...                     ...         ...       ...          ...   \n",
       "1287            id785443059   22.3.2004                          \n",
       "1288            id793417890   17.5.1972                          \n",
       "1289            id793556776    6.7.2004                          \n",
       "1290            id793837037   21.2.2004    México      Мексика   \n",
       "1291            id797179846  17.10.2000   Люберцы       Россия   \n",
       "\n",
       "      user_is_closed                             user_link  \n",
       "0              False                 https://vk.com/id2841  \n",
       "1              False                https://vk.com/id10822  \n",
       "2              False                https://vk.com/id14024  \n",
       "3              False  https://vk.com/nataliya_mogilevskaya  \n",
       "4              False                 https://vk.com/kimezz  \n",
       "...              ...                                   ...  \n",
       "1287           False            https://vk.com/id785443059  \n",
       "1288           False            https://vk.com/id793417890  \n",
       "1289           False            https://vk.com/id793556776  \n",
       "1290           False            https://vk.com/id793837037  \n",
       "1291           False            https://vk.com/id797179846  \n",
       "\n",
       "[199508 rows x 11 columns]"
      ]
     },
     "execution_count": 18,
     "metadata": {},
     "output_type": "execute_result"
    }
   ],
   "source": [
    "my_friends_list = friends_data['user_link'].tolist()\n",
    "my_friends_string = ','.join(my_friends_list)\n",
    "friends_of_my_friends = get_friends_of_a_few_users_full_info_in_df(my_friends_string, type_of='link')\n",
    "friends_of_my_friends"
   ]
  },
  {
   "cell_type": "markdown",
   "id": "8f0d20ea",
   "metadata": {},
   "source": [
    "<h2><center>Построение сети</center></h2>"
   ]
  },
  {
   "cell_type": "code",
   "execution_count": 83,
   "id": "d9cd07b7",
   "metadata": {},
   "outputs": [
    {
     "data": {
      "text/html": [
       "<div>\n",
       "<style scoped>\n",
       "    .dataframe tbody tr th:only-of-type {\n",
       "        vertical-align: middle;\n",
       "    }\n",
       "\n",
       "    .dataframe tbody tr th {\n",
       "        vertical-align: top;\n",
       "    }\n",
       "\n",
       "    .dataframe thead th {\n",
       "        text-align: right;\n",
       "    }\n",
       "</style>\n",
       "<table border=\"1\" class=\"dataframe\">\n",
       "  <thead>\n",
       "    <tr style=\"text-align: right;\">\n",
       "      <th></th>\n",
       "      <th>friend_owner</th>\n",
       "      <th>user_id</th>\n",
       "      <th>user_name</th>\n",
       "      <th>user_surname</th>\n",
       "      <th>user_sex</th>\n",
       "      <th>user_domain</th>\n",
       "      <th>user_bdate</th>\n",
       "      <th>user_city</th>\n",
       "      <th>user_country</th>\n",
       "      <th>user_is_closed</th>\n",
       "      <th>user_link</th>\n",
       "    </tr>\n",
       "  </thead>\n",
       "  <tbody>\n",
       "    <tr>\n",
       "      <th>0</th>\n",
       "      <td>441721976</td>\n",
       "      <td>130896</td>\n",
       "      <td>Егор</td>\n",
       "      <td>Юрескул</td>\n",
       "      <td>2</td>\n",
       "      <td>sydney</td>\n",
       "      <td>29.9.1988</td>\n",
       "      <td>Москва</td>\n",
       "      <td>Россия</td>\n",
       "      <td>False</td>\n",
       "      <td>https://vk.com/sydney</td>\n",
       "    </tr>\n",
       "    <tr>\n",
       "      <th>1</th>\n",
       "      <td>441721976</td>\n",
       "      <td>709743</td>\n",
       "      <td>Мария</td>\n",
       "      <td>Быстрова</td>\n",
       "      <td>1</td>\n",
       "      <td>mariabystrova</td>\n",
       "      <td>9.9</td>\n",
       "      <td>Москва</td>\n",
       "      <td>Россия</td>\n",
       "      <td>False</td>\n",
       "      <td>https://vk.com/mariabystrova</td>\n",
       "    </tr>\n",
       "    <tr>\n",
       "      <th>2</th>\n",
       "      <td>441721976</td>\n",
       "      <td>2416234</td>\n",
       "      <td>Zemtsov</td>\n",
       "      <td>Dmitry</td>\n",
       "      <td>2</td>\n",
       "      <td>dmitry.zemtsov</td>\n",
       "      <td>9.8.1984</td>\n",
       "      <td>Москва</td>\n",
       "      <td>Россия</td>\n",
       "      <td>False</td>\n",
       "      <td>https://vk.com/dmitry.zemtsov</td>\n",
       "    </tr>\n",
       "    <tr>\n",
       "      <th>3</th>\n",
       "      <td>441721976</td>\n",
       "      <td>4144285</td>\n",
       "      <td>Марта</td>\n",
       "      <td>Измайлова</td>\n",
       "      <td>1</td>\n",
       "      <td>id4144285</td>\n",
       "      <td>29.5</td>\n",
       "      <td>Москва</td>\n",
       "      <td>Россия</td>\n",
       "      <td>False</td>\n",
       "      <td>https://vk.com/id4144285</td>\n",
       "    </tr>\n",
       "    <tr>\n",
       "      <th>4</th>\n",
       "      <td>441721976</td>\n",
       "      <td>4762997</td>\n",
       "      <td>Никита</td>\n",
       "      <td>Власов</td>\n",
       "      <td>2</td>\n",
       "      <td>id4762997</td>\n",
       "      <td>3.3.1985</td>\n",
       "      <td>Москва</td>\n",
       "      <td>Россия</td>\n",
       "      <td>False</td>\n",
       "      <td>https://vk.com/id4762997</td>\n",
       "    </tr>\n",
       "    <tr>\n",
       "      <th>...</th>\n",
       "      <td>...</td>\n",
       "      <td>...</td>\n",
       "      <td>...</td>\n",
       "      <td>...</td>\n",
       "      <td>...</td>\n",
       "      <td>...</td>\n",
       "      <td>...</td>\n",
       "      <td>...</td>\n",
       "      <td>...</td>\n",
       "      <td>...</td>\n",
       "      <td>...</td>\n",
       "    </tr>\n",
       "    <tr>\n",
       "      <th>577</th>\n",
       "      <td>441721976</td>\n",
       "      <td>671432786</td>\n",
       "      <td>Sukhayl</td>\n",
       "      <td>Niyazov</td>\n",
       "      <td>2</td>\n",
       "      <td>fallibilist</td>\n",
       "      <td></td>\n",
       "      <td>Edinburgh</td>\n",
       "      <td>Великобритания</td>\n",
       "      <td>False</td>\n",
       "      <td>https://vk.com/fallibilist</td>\n",
       "    </tr>\n",
       "    <tr>\n",
       "      <th>578</th>\n",
       "      <td>441721976</td>\n",
       "      <td>689200024</td>\n",
       "      <td>James</td>\n",
       "      <td>Penrose</td>\n",
       "      <td>2</td>\n",
       "      <td>id689200024</td>\n",
       "      <td>4.2.2002</td>\n",
       "      <td></td>\n",
       "      <td></td>\n",
       "      <td>False</td>\n",
       "      <td>https://vk.com/id689200024</td>\n",
       "    </tr>\n",
       "    <tr>\n",
       "      <th>579</th>\n",
       "      <td>441721976</td>\n",
       "      <td>690288246</td>\n",
       "      <td>Саша</td>\n",
       "      <td>Пожарская</td>\n",
       "      <td>1</td>\n",
       "      <td>iknoweveryonehasdreams</td>\n",
       "      <td>22.5.2001</td>\n",
       "      <td></td>\n",
       "      <td></td>\n",
       "      <td>False</td>\n",
       "      <td>https://vk.com/iknoweveryonehasdreams</td>\n",
       "    </tr>\n",
       "    <tr>\n",
       "      <th>580</th>\n",
       "      <td>441721976</td>\n",
       "      <td>709104191</td>\n",
       "      <td>Саша</td>\n",
       "      <td>Волкова</td>\n",
       "      <td>1</td>\n",
       "      <td>y4vk_pv</td>\n",
       "      <td>10.9.2002</td>\n",
       "      <td></td>\n",
       "      <td></td>\n",
       "      <td>False</td>\n",
       "      <td>https://vk.com/y4vk_pv</td>\n",
       "    </tr>\n",
       "    <tr>\n",
       "      <th>581</th>\n",
       "      <td>441721976</td>\n",
       "      <td>764122330</td>\n",
       "      <td>Родион</td>\n",
       "      <td>Чибисков</td>\n",
       "      <td>2</td>\n",
       "      <td>robis_fox</td>\n",
       "      <td>16.11.2002</td>\n",
       "      <td></td>\n",
       "      <td></td>\n",
       "      <td>False</td>\n",
       "      <td>https://vk.com/robis_fox</td>\n",
       "    </tr>\n",
       "  </tbody>\n",
       "</table>\n",
       "<p>582 rows × 11 columns</p>\n",
       "</div>"
      ],
      "text/plain": [
       "     friend_owner    user_id user_name user_surname  user_sex  \\\n",
       "0       441721976     130896      Егор      Юрескул         2   \n",
       "1       441721976     709743     Мария     Быстрова         1   \n",
       "2       441721976    2416234   Zemtsov       Dmitry         2   \n",
       "3       441721976    4144285     Марта    Измайлова         1   \n",
       "4       441721976    4762997    Никита       Власов         2   \n",
       "..            ...        ...       ...          ...       ...   \n",
       "577     441721976  671432786   Sukhayl      Niyazov         2   \n",
       "578     441721976  689200024     James      Penrose         2   \n",
       "579     441721976  690288246      Саша    Пожарская         1   \n",
       "580     441721976  709104191      Саша      Волкова         1   \n",
       "581     441721976  764122330    Родион     Чибисков         2   \n",
       "\n",
       "                user_domain  user_bdate  user_city    user_country  \\\n",
       "0                    sydney   29.9.1988     Москва          Россия   \n",
       "1             mariabystrova         9.9     Москва          Россия   \n",
       "2            dmitry.zemtsov    9.8.1984     Москва          Россия   \n",
       "3                 id4144285        29.5     Москва          Россия   \n",
       "4                 id4762997    3.3.1985     Москва          Россия   \n",
       "..                      ...         ...        ...             ...   \n",
       "577             fallibilist              Edinburgh  Великобритания   \n",
       "578             id689200024    4.2.2002                              \n",
       "579  iknoweveryonehasdreams   22.5.2001                              \n",
       "580                 y4vk_pv   10.9.2002                              \n",
       "581               robis_fox  16.11.2002                              \n",
       "\n",
       "     user_is_closed                              user_link  \n",
       "0             False                  https://vk.com/sydney  \n",
       "1             False           https://vk.com/mariabystrova  \n",
       "2             False          https://vk.com/dmitry.zemtsov  \n",
       "3             False               https://vk.com/id4144285  \n",
       "4             False               https://vk.com/id4762997  \n",
       "..              ...                                    ...  \n",
       "577           False             https://vk.com/fallibilist  \n",
       "578           False             https://vk.com/id689200024  \n",
       "579           False  https://vk.com/iknoweveryonehasdreams  \n",
       "580           False                 https://vk.com/y4vk_pv  \n",
       "581           False               https://vk.com/robis_fox  \n",
       "\n",
       "[582 rows x 11 columns]"
      ]
     },
     "execution_count": 83,
     "metadata": {},
     "output_type": "execute_result"
    }
   ],
   "source": [
    "friends_data"
   ]
  },
  {
   "cell_type": "code",
   "execution_count": 19,
   "id": "fd6872a6",
   "metadata": {},
   "outputs": [
    {
     "name": "stdout",
     "output_type": "stream",
     "text": [
      "399\n",
      "[9804, 68046, 1164920, 1320605, 1441323]\n"
     ]
    }
   ],
   "source": [
    "my_friends_ids = friends_data['user_id'].tolist()\n",
    "print(len(my_friends_ids)) # сколько всего друзей\n",
    "print(my_friends_ids[0:5]) # пример"
   ]
  },
  {
   "cell_type": "code",
   "execution_count": 20,
   "id": "04541430",
   "metadata": {},
   "outputs": [],
   "source": [
    "my_friends_ids.append(friends_data['friend_owner'].unique()[0]) # добавляем в список себя"
   ]
  },
  {
   "cell_type": "code",
   "execution_count": 21,
   "id": "1902bfa6",
   "metadata": {},
   "outputs": [
    {
     "data": {
      "text/html": [
       "<div>\n",
       "<style scoped>\n",
       "    .dataframe tbody tr th:only-of-type {\n",
       "        vertical-align: middle;\n",
       "    }\n",
       "\n",
       "    .dataframe tbody tr th {\n",
       "        vertical-align: top;\n",
       "    }\n",
       "\n",
       "    .dataframe thead th {\n",
       "        text-align: right;\n",
       "    }\n",
       "</style>\n",
       "<table border=\"1\" class=\"dataframe\">\n",
       "  <thead>\n",
       "    <tr style=\"text-align: right;\">\n",
       "      <th></th>\n",
       "      <th>friend_owner</th>\n",
       "      <th>user_id</th>\n",
       "      <th>user_name</th>\n",
       "      <th>user_surname</th>\n",
       "      <th>user_sex</th>\n",
       "      <th>user_domain</th>\n",
       "      <th>user_bdate</th>\n",
       "      <th>user_city</th>\n",
       "      <th>user_country</th>\n",
       "      <th>user_is_closed</th>\n",
       "      <th>user_link</th>\n",
       "    </tr>\n",
       "  </thead>\n",
       "  <tbody>\n",
       "    <tr>\n",
       "      <th>214</th>\n",
       "      <td>68046</td>\n",
       "      <td>1164920</td>\n",
       "      <td>Игорь</td>\n",
       "      <td>Томашов</td>\n",
       "      <td>2</td>\n",
       "      <td>itomashov</td>\n",
       "      <td>23.9.1988</td>\n",
       "      <td>Москва</td>\n",
       "      <td>Россия</td>\n",
       "      <td>False</td>\n",
       "      <td>https://vk.com/itomashov</td>\n",
       "    </tr>\n",
       "    <tr>\n",
       "      <th>317</th>\n",
       "      <td>68046</td>\n",
       "      <td>2881398</td>\n",
       "      <td>Николай</td>\n",
       "      <td>Саперов</td>\n",
       "      <td>2</td>\n",
       "      <td>nikolaysaperov</td>\n",
       "      <td>30.6.1984</td>\n",
       "      <td>Москва</td>\n",
       "      <td>Россия</td>\n",
       "      <td>False</td>\n",
       "      <td>https://vk.com/nikolaysaperov</td>\n",
       "    </tr>\n",
       "    <tr>\n",
       "      <th>347</th>\n",
       "      <td>68046</td>\n",
       "      <td>3754814</td>\n",
       "      <td>Юлия</td>\n",
       "      <td>Апанасенко</td>\n",
       "      <td>1</td>\n",
       "      <td>julia_apanasenko</td>\n",
       "      <td>18.11</td>\n",
       "      <td>Москва</td>\n",
       "      <td>Россия</td>\n",
       "      <td>False</td>\n",
       "      <td>https://vk.com/julia_apanasenko</td>\n",
       "    </tr>\n",
       "    <tr>\n",
       "      <th>446</th>\n",
       "      <td>68046</td>\n",
       "      <td>8761370</td>\n",
       "      <td>Дмитрий</td>\n",
       "      <td>Турчанинов</td>\n",
       "      <td>2</td>\n",
       "      <td>turchaninovd</td>\n",
       "      <td>9.6</td>\n",
       "      <td>Калининград</td>\n",
       "      <td>Россия</td>\n",
       "      <td>False</td>\n",
       "      <td>https://vk.com/turchaninovd</td>\n",
       "    </tr>\n",
       "    <tr>\n",
       "      <th>490</th>\n",
       "      <td>68046</td>\n",
       "      <td>12247792</td>\n",
       "      <td>Соня</td>\n",
       "      <td>Анисимова</td>\n",
       "      <td>1</td>\n",
       "      <td>id12247792</td>\n",
       "      <td>23.8</td>\n",
       "      <td>Москва</td>\n",
       "      <td>Россия</td>\n",
       "      <td>False</td>\n",
       "      <td>https://vk.com/id12247792</td>\n",
       "    </tr>\n",
       "    <tr>\n",
       "      <th>...</th>\n",
       "      <td>...</td>\n",
       "      <td>...</td>\n",
       "      <td>...</td>\n",
       "      <td>...</td>\n",
       "      <td>...</td>\n",
       "      <td>...</td>\n",
       "      <td>...</td>\n",
       "      <td>...</td>\n",
       "      <td>...</td>\n",
       "      <td>...</td>\n",
       "      <td>...</td>\n",
       "    </tr>\n",
       "    <tr>\n",
       "      <th>1098</th>\n",
       "      <td>786286130</td>\n",
       "      <td>561708614</td>\n",
       "      <td>Максим</td>\n",
       "      <td>Мицкевич</td>\n",
       "      <td>2</td>\n",
       "      <td>mitskm</td>\n",
       "      <td>30.3.2004</td>\n",
       "      <td>Москва</td>\n",
       "      <td>Россия</td>\n",
       "      <td>False</td>\n",
       "      <td>https://vk.com/mitskm</td>\n",
       "    </tr>\n",
       "    <tr>\n",
       "      <th>1099</th>\n",
       "      <td>786286130</td>\n",
       "      <td>562095655</td>\n",
       "      <td>Daniel</td>\n",
       "      <td>Makarenko</td>\n",
       "      <td>2</td>\n",
       "      <td>sssshaggy</td>\n",
       "      <td>24.6</td>\n",
       "      <td>Москва</td>\n",
       "      <td>Россия</td>\n",
       "      <td>False</td>\n",
       "      <td>https://vk.com/sssshaggy</td>\n",
       "    </tr>\n",
       "    <tr>\n",
       "      <th>1101</th>\n",
       "      <td>786286130</td>\n",
       "      <td>562888592</td>\n",
       "      <td>Владислав</td>\n",
       "      <td>Кудинов</td>\n",
       "      <td>2</td>\n",
       "      <td>a1122</td>\n",
       "      <td>21.4</td>\n",
       "      <td>Москва</td>\n",
       "      <td>Россия</td>\n",
       "      <td>False</td>\n",
       "      <td>https://vk.com/a1122</td>\n",
       "    </tr>\n",
       "    <tr>\n",
       "      <th>1105</th>\n",
       "      <td>786286130</td>\n",
       "      <td>563489541</td>\n",
       "      <td>Дмитрий</td>\n",
       "      <td>Корнилов</td>\n",
       "      <td>2</td>\n",
       "      <td>id563489541</td>\n",
       "      <td>16.6.2005</td>\n",
       "      <td></td>\n",
       "      <td></td>\n",
       "      <td>False</td>\n",
       "      <td>https://vk.com/id563489541</td>\n",
       "    </tr>\n",
       "    <tr>\n",
       "      <th>1176</th>\n",
       "      <td>786286130</td>\n",
       "      <td>609190212</td>\n",
       "      <td>Илья</td>\n",
       "      <td>Окопный</td>\n",
       "      <td>2</td>\n",
       "      <td>basedrussianman</td>\n",
       "      <td>21.10.2000</td>\n",
       "      <td></td>\n",
       "      <td></td>\n",
       "      <td>False</td>\n",
       "      <td>https://vk.com/basedrussianman</td>\n",
       "    </tr>\n",
       "  </tbody>\n",
       "</table>\n",
       "<p>12259 rows × 11 columns</p>\n",
       "</div>"
      ],
      "text/plain": [
       "     friend_owner    user_id  user_name user_surname  user_sex   \n",
       "214         68046    1164920      Игорь      Томашов         2  \\\n",
       "317         68046    2881398    Николай      Саперов         2   \n",
       "347         68046    3754814       Юлия   Апанасенко         1   \n",
       "446         68046    8761370    Дмитрий   Турчанинов         2   \n",
       "490         68046   12247792       Соня    Анисимова         1   \n",
       "...           ...        ...        ...          ...       ...   \n",
       "1098    786286130  561708614     Максим     Мицкевич         2   \n",
       "1099    786286130  562095655     Daniel    Makarenko         2   \n",
       "1101    786286130  562888592  Владислав      Кудинов         2   \n",
       "1105    786286130  563489541    Дмитрий     Корнилов         2   \n",
       "1176    786286130  609190212       Илья      Окопный         2   \n",
       "\n",
       "           user_domain  user_bdate    user_city user_country  user_is_closed   \n",
       "214          itomashov   23.9.1988       Москва       Россия           False  \\\n",
       "317     nikolaysaperov   30.6.1984       Москва       Россия           False   \n",
       "347   julia_apanasenko       18.11       Москва       Россия           False   \n",
       "446       turchaninovd         9.6  Калининград       Россия           False   \n",
       "490         id12247792        23.8       Москва       Россия           False   \n",
       "...                ...         ...          ...          ...             ...   \n",
       "1098            mitskm   30.3.2004       Москва       Россия           False   \n",
       "1099         sssshaggy        24.6       Москва       Россия           False   \n",
       "1101             a1122        21.4       Москва       Россия           False   \n",
       "1105       id563489541   16.6.2005                                     False   \n",
       "1176   basedrussianman  21.10.2000                                     False   \n",
       "\n",
       "                            user_link  \n",
       "214          https://vk.com/itomashov  \n",
       "317     https://vk.com/nikolaysaperov  \n",
       "347   https://vk.com/julia_apanasenko  \n",
       "446       https://vk.com/turchaninovd  \n",
       "490         https://vk.com/id12247792  \n",
       "...                               ...  \n",
       "1098            https://vk.com/mitskm  \n",
       "1099         https://vk.com/sssshaggy  \n",
       "1101             https://vk.com/a1122  \n",
       "1105       https://vk.com/id563489541  \n",
       "1176   https://vk.com/basedrussianman  \n",
       "\n",
       "[12259 rows x 11 columns]"
      ]
     },
     "execution_count": 21,
     "metadata": {},
     "output_type": "execute_result"
    }
   ],
   "source": [
    "# теперь берем из полного списка только тех чье owner id есть в my_friends_ids\n",
    "# и те чей user_id есть в списке с id \"моих\" друзей\n",
    "friends_of_my_friends[(friends_of_my_friends['friend_owner'].isin(my_friends_ids)) &\\\n",
    "                     friends_of_my_friends['user_id'].isin(my_friends_ids)]"
   ]
  },
  {
   "cell_type": "code",
   "execution_count": 22,
   "id": "79b8fdc0",
   "metadata": {},
   "outputs": [
    {
     "data": {
      "text/html": [
       "<div>\n",
       "<style scoped>\n",
       "    .dataframe tbody tr th:only-of-type {\n",
       "        vertical-align: middle;\n",
       "    }\n",
       "\n",
       "    .dataframe tbody tr th {\n",
       "        vertical-align: top;\n",
       "    }\n",
       "\n",
       "    .dataframe thead th {\n",
       "        text-align: right;\n",
       "    }\n",
       "</style>\n",
       "<table border=\"1\" class=\"dataframe\">\n",
       "  <thead>\n",
       "    <tr style=\"text-align: right;\">\n",
       "      <th></th>\n",
       "      <th>user_id</th>\n",
       "      <th>user_name</th>\n",
       "      <th>user_surname</th>\n",
       "    </tr>\n",
       "  </thead>\n",
       "  <tbody>\n",
       "    <tr>\n",
       "      <th>0</th>\n",
       "      <td>2841</td>\n",
       "      <td>Юлия</td>\n",
       "      <td>Кузнецова</td>\n",
       "    </tr>\n",
       "    <tr>\n",
       "      <th>1</th>\n",
       "      <td>10822</td>\n",
       "      <td>Андрей</td>\n",
       "      <td>Алдашев</td>\n",
       "    </tr>\n",
       "    <tr>\n",
       "      <th>2</th>\n",
       "      <td>14024</td>\n",
       "      <td>Алия</td>\n",
       "      <td>Пашкеева</td>\n",
       "    </tr>\n",
       "    <tr>\n",
       "      <th>3</th>\n",
       "      <td>15233</td>\n",
       "      <td>Наталия</td>\n",
       "      <td>Наймарк</td>\n",
       "    </tr>\n",
       "    <tr>\n",
       "      <th>4</th>\n",
       "      <td>15357</td>\n",
       "      <td>Ким</td>\n",
       "      <td>Галачян</td>\n",
       "    </tr>\n",
       "    <tr>\n",
       "      <th>...</th>\n",
       "      <td>...</td>\n",
       "      <td>...</td>\n",
       "      <td>...</td>\n",
       "    </tr>\n",
       "    <tr>\n",
       "      <th>1281</th>\n",
       "      <td>752618085</td>\n",
       "      <td>Родион</td>\n",
       "      <td>Сапрыкин</td>\n",
       "    </tr>\n",
       "    <tr>\n",
       "      <th>1283</th>\n",
       "      <td>764150541</td>\n",
       "      <td>Ника</td>\n",
       "      <td>Горбунова</td>\n",
       "    </tr>\n",
       "    <tr>\n",
       "      <th>1286</th>\n",
       "      <td>782531014</td>\n",
       "      <td>Тоня</td>\n",
       "      <td>Вальтц</td>\n",
       "    </tr>\n",
       "    <tr>\n",
       "      <th>1289</th>\n",
       "      <td>793556776</td>\n",
       "      <td>Роман</td>\n",
       "      <td>Семенов</td>\n",
       "    </tr>\n",
       "    <tr>\n",
       "      <th>1291</th>\n",
       "      <td>797179846</td>\n",
       "      <td>Кристина</td>\n",
       "      <td>Комкова</td>\n",
       "    </tr>\n",
       "  </tbody>\n",
       "</table>\n",
       "<p>119792 rows × 3 columns</p>\n",
       "</div>"
      ],
      "text/plain": [
       "        user_id user_name user_surname\n",
       "0          2841      Юлия    Кузнецова\n",
       "1         10822    Андрей      Алдашев\n",
       "2         14024      Алия     Пашкеева\n",
       "3         15233   Наталия      Наймарк\n",
       "4         15357       Ким      Галачян\n",
       "...         ...       ...          ...\n",
       "1281  752618085    Родион     Сапрыкин\n",
       "1283  764150541      Ника    Горбунова\n",
       "1286  782531014      Тоня       Вальтц\n",
       "1289  793556776     Роман      Семенов\n",
       "1291  797179846  Кристина      Комкова\n",
       "\n",
       "[119792 rows x 3 columns]"
      ]
     },
     "execution_count": 22,
     "metadata": {},
     "output_type": "execute_result"
    }
   ],
   "source": [
    "small_df = friends_of_my_friends[['user_id', 'user_name', 'user_surname']].drop_duplicates()\n",
    "small_df"
   ]
  },
  {
   "cell_type": "code",
   "execution_count": 23,
   "id": "61b042d9",
   "metadata": {},
   "outputs": [],
   "source": [
    "friends_of_my_friends = pd.merge(friends_of_my_friends, small_df, left_on='friend_owner', right_on='user_id')"
   ]
  },
  {
   "cell_type": "code",
   "execution_count": 24,
   "id": "789b6fbb",
   "metadata": {},
   "outputs": [
    {
     "data": {
      "text/html": [
       "<div>\n",
       "<style scoped>\n",
       "    .dataframe tbody tr th:only-of-type {\n",
       "        vertical-align: middle;\n",
       "    }\n",
       "\n",
       "    .dataframe tbody tr th {\n",
       "        vertical-align: top;\n",
       "    }\n",
       "\n",
       "    .dataframe thead th {\n",
       "        text-align: right;\n",
       "    }\n",
       "</style>\n",
       "<table border=\"1\" class=\"dataframe\">\n",
       "  <thead>\n",
       "    <tr style=\"text-align: right;\">\n",
       "      <th></th>\n",
       "      <th>user_id_x</th>\n",
       "      <th>user_name_x</th>\n",
       "      <th>user_surname_x</th>\n",
       "      <th>user_id_y</th>\n",
       "      <th>user_name_y</th>\n",
       "      <th>user_surname_y</th>\n",
       "      <th>user_x</th>\n",
       "      <th>user_y</th>\n",
       "    </tr>\n",
       "  </thead>\n",
       "  <tbody>\n",
       "    <tr>\n",
       "      <th>0</th>\n",
       "      <td>2841</td>\n",
       "      <td>Юлия</td>\n",
       "      <td>Кузнецова</td>\n",
       "      <td>68046</td>\n",
       "      <td>Руслан</td>\n",
       "      <td>Хаиткулов</td>\n",
       "      <td>Юлия Кузнецова</td>\n",
       "      <td>Руслан Хаиткулов</td>\n",
       "    </tr>\n",
       "    <tr>\n",
       "      <th>1</th>\n",
       "      <td>10822</td>\n",
       "      <td>Андрей</td>\n",
       "      <td>Алдашев</td>\n",
       "      <td>68046</td>\n",
       "      <td>Руслан</td>\n",
       "      <td>Хаиткулов</td>\n",
       "      <td>Андрей Алдашев</td>\n",
       "      <td>Руслан Хаиткулов</td>\n",
       "    </tr>\n",
       "    <tr>\n",
       "      <th>2</th>\n",
       "      <td>14024</td>\n",
       "      <td>Алия</td>\n",
       "      <td>Пашкеева</td>\n",
       "      <td>68046</td>\n",
       "      <td>Руслан</td>\n",
       "      <td>Хаиткулов</td>\n",
       "      <td>Алия Пашкеева</td>\n",
       "      <td>Руслан Хаиткулов</td>\n",
       "    </tr>\n",
       "    <tr>\n",
       "      <th>3</th>\n",
       "      <td>15233</td>\n",
       "      <td>Наталия</td>\n",
       "      <td>Наймарк</td>\n",
       "      <td>68046</td>\n",
       "      <td>Руслан</td>\n",
       "      <td>Хаиткулов</td>\n",
       "      <td>Наталия Наймарк</td>\n",
       "      <td>Руслан Хаиткулов</td>\n",
       "    </tr>\n",
       "    <tr>\n",
       "      <th>4</th>\n",
       "      <td>15357</td>\n",
       "      <td>Ким</td>\n",
       "      <td>Галачян</td>\n",
       "      <td>68046</td>\n",
       "      <td>Руслан</td>\n",
       "      <td>Хаиткулов</td>\n",
       "      <td>Ким Галачян</td>\n",
       "      <td>Руслан Хаиткулов</td>\n",
       "    </tr>\n",
       "    <tr>\n",
       "      <th>...</th>\n",
       "      <td>...</td>\n",
       "      <td>...</td>\n",
       "      <td>...</td>\n",
       "      <td>...</td>\n",
       "      <td>...</td>\n",
       "      <td>...</td>\n",
       "      <td>...</td>\n",
       "      <td>...</td>\n",
       "    </tr>\n",
       "    <tr>\n",
       "      <th>182272</th>\n",
       "      <td>785443059</td>\n",
       "      <td>Амина</td>\n",
       "      <td>Гончаренко</td>\n",
       "      <td>786286130</td>\n",
       "      <td>Анна</td>\n",
       "      <td>Соловьева</td>\n",
       "      <td>Амина Гончаренко</td>\n",
       "      <td>Анна Соловьева</td>\n",
       "    </tr>\n",
       "    <tr>\n",
       "      <th>182273</th>\n",
       "      <td>793417890</td>\n",
       "      <td>София</td>\n",
       "      <td>Ситнова</td>\n",
       "      <td>786286130</td>\n",
       "      <td>Анна</td>\n",
       "      <td>Соловьева</td>\n",
       "      <td>София Ситнова</td>\n",
       "      <td>Анна Соловьева</td>\n",
       "    </tr>\n",
       "    <tr>\n",
       "      <th>182274</th>\n",
       "      <td>793556776</td>\n",
       "      <td>Роман</td>\n",
       "      <td>Семенов</td>\n",
       "      <td>786286130</td>\n",
       "      <td>Анна</td>\n",
       "      <td>Соловьева</td>\n",
       "      <td>Роман Семенов</td>\n",
       "      <td>Анна Соловьева</td>\n",
       "    </tr>\n",
       "    <tr>\n",
       "      <th>182275</th>\n",
       "      <td>793837037</td>\n",
       "      <td>Kevin</td>\n",
       "      <td>Calderon</td>\n",
       "      <td>786286130</td>\n",
       "      <td>Анна</td>\n",
       "      <td>Соловьева</td>\n",
       "      <td>Kevin Calderon</td>\n",
       "      <td>Анна Соловьева</td>\n",
       "    </tr>\n",
       "    <tr>\n",
       "      <th>182276</th>\n",
       "      <td>797179846</td>\n",
       "      <td>Кристина</td>\n",
       "      <td>Комкова</td>\n",
       "      <td>786286130</td>\n",
       "      <td>Анна</td>\n",
       "      <td>Соловьева</td>\n",
       "      <td>Кристина Комкова</td>\n",
       "      <td>Анна Соловьева</td>\n",
       "    </tr>\n",
       "  </tbody>\n",
       "</table>\n",
       "<p>182277 rows × 8 columns</p>\n",
       "</div>"
      ],
      "text/plain": [
       "        user_id_x user_name_x user_surname_x  user_id_y user_name_y   \n",
       "0            2841        Юлия      Кузнецова      68046      Руслан  \\\n",
       "1           10822      Андрей        Алдашев      68046      Руслан   \n",
       "2           14024        Алия       Пашкеева      68046      Руслан   \n",
       "3           15233     Наталия        Наймарк      68046      Руслан   \n",
       "4           15357         Ким        Галачян      68046      Руслан   \n",
       "...           ...         ...            ...        ...         ...   \n",
       "182272  785443059       Амина     Гончаренко  786286130        Анна   \n",
       "182273  793417890       София        Ситнова  786286130        Анна   \n",
       "182274  793556776       Роман        Семенов  786286130        Анна   \n",
       "182275  793837037       Kevin       Calderon  786286130        Анна   \n",
       "182276  797179846    Кристина        Комкова  786286130        Анна   \n",
       "\n",
       "       user_surname_y            user_x            user_y  \n",
       "0           Хаиткулов    Юлия Кузнецова  Руслан Хаиткулов  \n",
       "1           Хаиткулов    Андрей Алдашев  Руслан Хаиткулов  \n",
       "2           Хаиткулов     Алия Пашкеева  Руслан Хаиткулов  \n",
       "3           Хаиткулов   Наталия Наймарк  Руслан Хаиткулов  \n",
       "4           Хаиткулов       Ким Галачян  Руслан Хаиткулов  \n",
       "...               ...               ...               ...  \n",
       "182272      Соловьева  Амина Гончаренко    Анна Соловьева  \n",
       "182273      Соловьева     София Ситнова    Анна Соловьева  \n",
       "182274      Соловьева     Роман Семенов    Анна Соловьева  \n",
       "182275      Соловьева    Kevin Calderon    Анна Соловьева  \n",
       "182276      Соловьева  Кристина Комкова    Анна Соловьева  \n",
       "\n",
       "[182277 rows x 8 columns]"
      ]
     },
     "execution_count": 24,
     "metadata": {},
     "output_type": "execute_result"
    }
   ],
   "source": [
    "friends_of_my_friends = friends_of_my_friends[['user_id_x', 'user_name_x', 'user_surname_x',\n",
    "                      'user_id_y', 'user_name_y', 'user_surname_y']]\n",
    "friends_of_my_friends['user_x'] = friends_of_my_friends['user_name_x'] + ' ' + friends_of_my_friends['user_surname_x']\n",
    "friends_of_my_friends['user_y'] = friends_of_my_friends['user_name_y'] + ' ' + friends_of_my_friends['user_surname_y']\n",
    "friends_of_my_friends"
   ]
  },
  {
   "cell_type": "code",
   "execution_count": 25,
   "id": "13fbd3d6",
   "metadata": {},
   "outputs": [
    {
     "data": {
      "text/html": [
       "<div>\n",
       "<style scoped>\n",
       "    .dataframe tbody tr th:only-of-type {\n",
       "        vertical-align: middle;\n",
       "    }\n",
       "\n",
       "    .dataframe tbody tr th {\n",
       "        vertical-align: top;\n",
       "    }\n",
       "\n",
       "    .dataframe thead th {\n",
       "        text-align: right;\n",
       "    }\n",
       "</style>\n",
       "<table border=\"1\" class=\"dataframe\">\n",
       "  <thead>\n",
       "    <tr style=\"text-align: right;\">\n",
       "      <th></th>\n",
       "      <th>user_id_x</th>\n",
       "      <th>user_name_x</th>\n",
       "      <th>user_surname_x</th>\n",
       "      <th>user_id_y</th>\n",
       "      <th>user_name_y</th>\n",
       "      <th>user_surname_y</th>\n",
       "      <th>user_x</th>\n",
       "      <th>user_y</th>\n",
       "    </tr>\n",
       "  </thead>\n",
       "  <tbody>\n",
       "    <tr>\n",
       "      <th>214</th>\n",
       "      <td>1164920</td>\n",
       "      <td>Игорь</td>\n",
       "      <td>Томашов</td>\n",
       "      <td>68046</td>\n",
       "      <td>Руслан</td>\n",
       "      <td>Хаиткулов</td>\n",
       "      <td>Игорь Томашов</td>\n",
       "      <td>Руслан Хаиткулов</td>\n",
       "    </tr>\n",
       "    <tr>\n",
       "      <th>317</th>\n",
       "      <td>2881398</td>\n",
       "      <td>Николай</td>\n",
       "      <td>Саперов</td>\n",
       "      <td>68046</td>\n",
       "      <td>Руслан</td>\n",
       "      <td>Хаиткулов</td>\n",
       "      <td>Николай Саперов</td>\n",
       "      <td>Руслан Хаиткулов</td>\n",
       "    </tr>\n",
       "    <tr>\n",
       "      <th>347</th>\n",
       "      <td>3754814</td>\n",
       "      <td>Юлия</td>\n",
       "      <td>Апанасенко</td>\n",
       "      <td>68046</td>\n",
       "      <td>Руслан</td>\n",
       "      <td>Хаиткулов</td>\n",
       "      <td>Юлия Апанасенко</td>\n",
       "      <td>Руслан Хаиткулов</td>\n",
       "    </tr>\n",
       "    <tr>\n",
       "      <th>446</th>\n",
       "      <td>8761370</td>\n",
       "      <td>Дмитрий</td>\n",
       "      <td>Турчанинов</td>\n",
       "      <td>68046</td>\n",
       "      <td>Руслан</td>\n",
       "      <td>Хаиткулов</td>\n",
       "      <td>Дмитрий Турчанинов</td>\n",
       "      <td>Руслан Хаиткулов</td>\n",
       "    </tr>\n",
       "    <tr>\n",
       "      <th>490</th>\n",
       "      <td>12247792</td>\n",
       "      <td>Соня</td>\n",
       "      <td>Анисимова</td>\n",
       "      <td>68046</td>\n",
       "      <td>Руслан</td>\n",
       "      <td>Хаиткулов</td>\n",
       "      <td>Соня Анисимова</td>\n",
       "      <td>Руслан Хаиткулов</td>\n",
       "    </tr>\n",
       "    <tr>\n",
       "      <th>...</th>\n",
       "      <td>...</td>\n",
       "      <td>...</td>\n",
       "      <td>...</td>\n",
       "      <td>...</td>\n",
       "      <td>...</td>\n",
       "      <td>...</td>\n",
       "      <td>...</td>\n",
       "      <td>...</td>\n",
       "    </tr>\n",
       "    <tr>\n",
       "      <th>182083</th>\n",
       "      <td>561708614</td>\n",
       "      <td>Максим</td>\n",
       "      <td>Мицкевич</td>\n",
       "      <td>786286130</td>\n",
       "      <td>Анна</td>\n",
       "      <td>Соловьева</td>\n",
       "      <td>Максим Мицкевич</td>\n",
       "      <td>Анна Соловьева</td>\n",
       "    </tr>\n",
       "    <tr>\n",
       "      <th>182084</th>\n",
       "      <td>562095655</td>\n",
       "      <td>Daniel</td>\n",
       "      <td>Makarenko</td>\n",
       "      <td>786286130</td>\n",
       "      <td>Анна</td>\n",
       "      <td>Соловьева</td>\n",
       "      <td>Daniel Makarenko</td>\n",
       "      <td>Анна Соловьева</td>\n",
       "    </tr>\n",
       "    <tr>\n",
       "      <th>182086</th>\n",
       "      <td>562888592</td>\n",
       "      <td>Владислав</td>\n",
       "      <td>Кудинов</td>\n",
       "      <td>786286130</td>\n",
       "      <td>Анна</td>\n",
       "      <td>Соловьева</td>\n",
       "      <td>Владислав Кудинов</td>\n",
       "      <td>Анна Соловьева</td>\n",
       "    </tr>\n",
       "    <tr>\n",
       "      <th>182090</th>\n",
       "      <td>563489541</td>\n",
       "      <td>Дмитрий</td>\n",
       "      <td>Корнилов</td>\n",
       "      <td>786286130</td>\n",
       "      <td>Анна</td>\n",
       "      <td>Соловьева</td>\n",
       "      <td>Дмитрий Корнилов</td>\n",
       "      <td>Анна Соловьева</td>\n",
       "    </tr>\n",
       "    <tr>\n",
       "      <th>182161</th>\n",
       "      <td>609190212</td>\n",
       "      <td>Илья</td>\n",
       "      <td>Окопный</td>\n",
       "      <td>786286130</td>\n",
       "      <td>Анна</td>\n",
       "      <td>Соловьева</td>\n",
       "      <td>Илья Окопный</td>\n",
       "      <td>Анна Соловьева</td>\n",
       "    </tr>\n",
       "  </tbody>\n",
       "</table>\n",
       "<p>12248 rows × 8 columns</p>\n",
       "</div>"
      ],
      "text/plain": [
       "        user_id_x user_name_x user_surname_x  user_id_y user_name_y   \n",
       "214       1164920       Игорь        Томашов      68046      Руслан  \\\n",
       "317       2881398     Николай        Саперов      68046      Руслан   \n",
       "347       3754814        Юлия     Апанасенко      68046      Руслан   \n",
       "446       8761370     Дмитрий     Турчанинов      68046      Руслан   \n",
       "490      12247792        Соня      Анисимова      68046      Руслан   \n",
       "...           ...         ...            ...        ...         ...   \n",
       "182083  561708614      Максим       Мицкевич  786286130        Анна   \n",
       "182084  562095655      Daniel      Makarenko  786286130        Анна   \n",
       "182086  562888592   Владислав        Кудинов  786286130        Анна   \n",
       "182090  563489541     Дмитрий       Корнилов  786286130        Анна   \n",
       "182161  609190212        Илья        Окопный  786286130        Анна   \n",
       "\n",
       "       user_surname_y              user_x            user_y  \n",
       "214         Хаиткулов       Игорь Томашов  Руслан Хаиткулов  \n",
       "317         Хаиткулов     Николай Саперов  Руслан Хаиткулов  \n",
       "347         Хаиткулов     Юлия Апанасенко  Руслан Хаиткулов  \n",
       "446         Хаиткулов  Дмитрий Турчанинов  Руслан Хаиткулов  \n",
       "490         Хаиткулов      Соня Анисимова  Руслан Хаиткулов  \n",
       "...               ...                 ...               ...  \n",
       "182083      Соловьева     Максим Мицкевич    Анна Соловьева  \n",
       "182084      Соловьева    Daniel Makarenko    Анна Соловьева  \n",
       "182086      Соловьева   Владислав Кудинов    Анна Соловьева  \n",
       "182090      Соловьева    Дмитрий Корнилов    Анна Соловьева  \n",
       "182161      Соловьева        Илья Окопный    Анна Соловьева  \n",
       "\n",
       "[12248 rows x 8 columns]"
      ]
     },
     "execution_count": 25,
     "metadata": {},
     "output_type": "execute_result"
    }
   ],
   "source": [
    "friends_of_my_friends = friends_of_my_friends[(friends_of_my_friends['user_id_x'].isin(my_friends_ids)) &\\\n",
    "                     friends_of_my_friends['user_id_y'].isin(my_friends_ids)]\n",
    "friends_of_my_friends"
   ]
  },
  {
   "cell_type": "code",
   "execution_count": null,
   "id": "40168294",
   "metadata": {},
   "outputs": [],
   "source": [
    "import networkx as nx\n",
    "G = nx.from_pandas_edgelist(df, 'user_x', 'user_y')\n",
    "nx.write_gexf(G, \"friends_network.gexf\")"
   ]
  },
  {
   "cell_type": "code",
   "execution_count": null,
   "id": "9c9ea210",
   "metadata": {},
   "outputs": [],
   "source": [
    "# и этот файл friends_network.gexf нужно загрузить в Gephi lite и визуализировать!"
   ]
  }
 ],
 "metadata": {
  "kernelspec": {
   "display_name": "Python 3 (ipykernel)",
   "language": "python",
   "name": "python3"
  },
  "language_info": {
   "codemirror_mode": {
    "name": "ipython",
    "version": 3
   },
   "file_extension": ".py",
   "mimetype": "text/x-python",
   "name": "python",
   "nbconvert_exporter": "python",
   "pygments_lexer": "ipython3",
   "version": "3.9.13"
  }
 },
 "nbformat": 4,
 "nbformat_minor": 5
}
